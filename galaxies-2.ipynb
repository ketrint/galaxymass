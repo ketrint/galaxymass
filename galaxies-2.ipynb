{
 "cells": [
  {
   "cell_type": "code",
   "execution_count": 2,
   "metadata": {},
   "outputs": [
    {
     "name": "stdout",
     "output_type": "stream",
     "text": [
      "Collecting astropy\n",
      "  Downloading astropy-4.0.1.post1-cp36-cp36m-manylinux1_x86_64.whl (6.5 MB)\n",
      "\u001b[K     |████████████████████████████████| 6.5 MB 3.7 MB/s eta 0:00:01\n",
      "\u001b[?25hRequirement already satisfied: numpy>=1.16 in /root/miniconda/lib/python3.6/site-packages (from astropy) (1.17.5)\n",
      "Installing collected packages: astropy\n",
      "Successfully installed astropy-4.0.1.post1\n"
     ]
    }
   ],
   "source": [
    "!pip install astropy"
   ]
  },
  {
   "cell_type": "code",
   "execution_count": 7,
   "metadata": {},
   "outputs": [],
   "source": [
    "from astropy.io import fits\n",
    "import pandas as pd\n",
    "import numpy as np\n",
    "\n",
    "import matplotlib.pyplot as plt\n",
    "import seaborn as sns\n",
    "\n",
    "from sklearn import impute"
   ]
  },
  {
   "cell_type": "code",
   "execution_count": 62,
   "metadata": {},
   "outputs": [],
   "source": [
    "import torch\n",
    "from torch import nn\n",
    "from torch.autograd import Variable"
   ]
  },
  {
   "cell_type": "code",
   "execution_count": 8,
   "metadata": {},
   "outputs": [
    {
     "name": "stdout",
     "output_type": "stream",
     "text": [
      "Filename: /root/.astropy/cache/download/py3/0508754bf44ea7119c5b6b1a661568ef\n",
      "No.    Name      Ver    Type      Cards   Dimensions   Format\n",
      "  0  PRIMARY       1 PrimaryHDU      16   (73531,)   uint8   \n",
      "  1  Joined        1 BinTableHDU   1644   4105516R x 559C   [J, D, D, D, D, D, K, I, J, I, E, J, 6A, D, I, 15A, J, J, D, D, D, D, E, E, E, J, J, J, 40A, B, B, E, I, I, 10A, E, J, E, J, E, I, 14A, E, I, 33A, L, L, E, D, D, D, D, D, D, D, D, D, D, D, D, D, D, D, D, D, D, D, D, D, D, D, D, D, D, D, D, D, D, D, D, D, D, D, D, D, D, D, D, E, E, E, E, E, D, D, D, D, D, E, E, E, E, E, D, D, D, D, D, E, E, E, E, E, D, D, D, D, D, D, D, D, D, D, D, D, D, D, D, E, E, E, E, E, E, E, E, E, E, E, D, E, D, E, D, E, D, E, D, E, D, E, D, E, D, E, D, E, D, E, E, E, E, E, E, E, E, E, E, E, E, E, E, E, D, D, D, D, D, D, D, D, E, E, E, E, E, E, E, E, E, E, E, E, E, E, E, E, E, E, E, E, E, E, E, E, E, E, E, E, E, E, E, E, E, E, E, E, E, E, E, E, E, E, E, E, E, E, E, E, E, E, E, E, E, E, E, E, E, E, E, E, E, E, E, E, E, E, E, E, E, E, E, E, E, E, E, E, E, E, E, E, E, E, E, E, E, E, E, E, E, E, E, E, E, E, E, E, E, E, E, E, E, E, E, E, E, E, E, E, E, E, E, E, E, E, E, E, E, E, E, E, E, E, E, E, E, E, E, E, E, E, E, E, E, E, E, E, E, E, E, E, E, E, E, E, E, E, E, E, E, E, E, E, E, E, E, D, E, D, E, D, E, D, E, D, E, D, E, D, E, D, E, D, E, D, E, D, E, D, E, D, E, D, E, D, E, D, E, D, E, D, E, D, E, D, E, D, D, E, E, E, E, D, D, D, E, D, D, D, D, D, D, D, D, D, D, D, D, D, D, D, D, D, D, D, D, D, D, E, E, E, E, E, E, E, E, E, E, E, E, E, E, E, E, E, E, E, E, E, E, E, E, E, E, E, E, E, E, E, E, E, E, E, E, E, E, E, E, E, E, E, E, E, E, E, E, E, E, E, E, E, E, E, E, E, E, E, E, E, E, E, E, E, E, E, E, E, E, E, E, D, D, D, D, D, D, D, D, D, D, D, D, D, D, D, D, D, D, D, D, D, D, D, D, D, D, D, D, D, D, D, D, D, D, D, L, L, D, D, D, D, D, D, D, D, D, D, D, D, D, D, D, D, D, D, D, D, D, D, D, D, D, D, D, D, D, D, D, D, D, D, D, D, D, D, D, D, D, D]   \n"
     ]
    }
   ],
   "source": [
    "# открыть файлы с скрасными смещениями\n",
    "\n",
    "data = fits.open('http://gal-03.sai.msu.ru/~vtoptun/photometry/rcsed_v2_clean.fits')\n",
    "\n",
    "data.info()"
   ]
  },
  {
   "cell_type": "code",
   "execution_count": 80,
   "metadata": {},
   "outputs": [],
   "source": [
    "GrID = pd.read_csv('rcsed_iGrID.csv')"
   ]
  },
  {
   "cell_type": "code",
   "execution_count": 9,
   "metadata": {},
   "outputs": [],
   "source": [
    "data = data[1].data"
   ]
  },
  {
   "cell_type": "code",
   "execution_count": 74,
   "metadata": {},
   "outputs": [],
   "source": [
    "cols = data.columns.names #559"
   ]
  },
  {
   "cell_type": "code",
   "execution_count": 75,
   "metadata": {},
   "outputs": [
    {
     "data": {
      "text/html": [
       "<div>\n",
       "<style scoped>\n",
       "    .dataframe tbody tr th:only-of-type {\n",
       "        vertical-align: middle;\n",
       "    }\n",
       "\n",
       "    .dataframe tbody tr th {\n",
       "        vertical-align: top;\n",
       "    }\n",
       "\n",
       "    .dataframe thead th {\n",
       "        text-align: right;\n",
       "    }\n",
       "</style>\n",
       "<table border=\"1\" class=\"dataframe\">\n",
       "  <thead>\n",
       "    <tr style=\"text-align: right;\">\n",
       "      <th></th>\n",
       "      <th>ind</th>\n",
       "      <th>ra</th>\n",
       "      <th>dec</th>\n",
       "      <th>z_sdss</th>\n",
       "      <th>zerr_sdss</th>\n",
       "      <th>specObjID_sdss</th>\n",
       "      <th>bestObjID_sdss</th>\n",
       "      <th>plate_sdss</th>\n",
       "      <th>mjd_sdss</th>\n",
       "      <th>fiberID_sdss</th>\n",
       "      <th>...</th>\n",
       "      <th>expRadErr_g</th>\n",
       "      <th>expAB_g</th>\n",
       "      <th>expABErr_g</th>\n",
       "      <th>expPhi_g</th>\n",
       "      <th>expMag_g</th>\n",
       "      <th>expFlux_g</th>\n",
       "      <th>expFluxIvar_g</th>\n",
       "      <th>expMagErr_g</th>\n",
       "      <th>modelMag_g</th>\n",
       "      <th>modelMagErr_g</th>\n",
       "    </tr>\n",
       "  </thead>\n",
       "  <tbody>\n",
       "    <tr>\n",
       "      <th>0</th>\n",
       "      <td>1</td>\n",
       "      <td>0.000019</td>\n",
       "      <td>-4.760800</td>\n",
       "      <td>2.467120</td>\n",
       "      <td>0.002194</td>\n",
       "      <td>7.919679e+18</td>\n",
       "      <td>0</td>\n",
       "      <td>7034</td>\n",
       "      <td>56564</td>\n",
       "      <td>360</td>\n",
       "      <td>...</td>\n",
       "      <td>NaN</td>\n",
       "      <td>NaN</td>\n",
       "      <td>NaN</td>\n",
       "      <td>NaN</td>\n",
       "      <td>NaN</td>\n",
       "      <td>NaN</td>\n",
       "      <td>NaN</td>\n",
       "      <td>NaN</td>\n",
       "      <td>NaN</td>\n",
       "      <td>NaN</td>\n",
       "    </tr>\n",
       "    <tr>\n",
       "      <th>1</th>\n",
       "      <td>2</td>\n",
       "      <td>0.000091</td>\n",
       "      <td>24.902252</td>\n",
       "      <td>0.555936</td>\n",
       "      <td>0.000245</td>\n",
       "      <td>7.333218e+18</td>\n",
       "      <td>1237666309095751941</td>\n",
       "      <td>6513</td>\n",
       "      <td>56543</td>\n",
       "      <td>843</td>\n",
       "      <td>...</td>\n",
       "      <td>11.760200</td>\n",
       "      <td>0.249997</td>\n",
       "      <td>0.369362</td>\n",
       "      <td>83.70193</td>\n",
       "      <td>22.08381</td>\n",
       "      <td>1.461627</td>\n",
       "      <td>1.991625</td>\n",
       "      <td>0.522415</td>\n",
       "      <td>23.18259</td>\n",
       "      <td>0.386604</td>\n",
       "    </tr>\n",
       "    <tr>\n",
       "      <th>2</th>\n",
       "      <td>3</td>\n",
       "      <td>0.000346</td>\n",
       "      <td>-6.491940</td>\n",
       "      <td>0.514177</td>\n",
       "      <td>0.000130</td>\n",
       "      <td>8.047035e+18</td>\n",
       "      <td>1237680243597902184</td>\n",
       "      <td>7147</td>\n",
       "      <td>56574</td>\n",
       "      <td>831</td>\n",
       "      <td>...</td>\n",
       "      <td>1.559838</td>\n",
       "      <td>0.147778</td>\n",
       "      <td>0.201906</td>\n",
       "      <td>84.34074</td>\n",
       "      <td>21.86258</td>\n",
       "      <td>1.794235</td>\n",
       "      <td>11.132140</td>\n",
       "      <td>0.180460</td>\n",
       "      <td>21.12392</td>\n",
       "      <td>0.183285</td>\n",
       "    </tr>\n",
       "    <tr>\n",
       "      <th>3</th>\n",
       "      <td>4</td>\n",
       "      <td>0.000463</td>\n",
       "      <td>10.241074</td>\n",
       "      <td>0.654380</td>\n",
       "      <td>0.000170</td>\n",
       "      <td>6.960408e+18</td>\n",
       "      <td>1237679319089349467</td>\n",
       "      <td>6182</td>\n",
       "      <td>56190</td>\n",
       "      <td>346</td>\n",
       "      <td>...</td>\n",
       "      <td>2.020618</td>\n",
       "      <td>0.265576</td>\n",
       "      <td>0.520042</td>\n",
       "      <td>43.52781</td>\n",
       "      <td>22.94896</td>\n",
       "      <td>0.649079</td>\n",
       "      <td>20.061290</td>\n",
       "      <td>0.359881</td>\n",
       "      <td>23.39049</td>\n",
       "      <td>0.270960</td>\n",
       "    </tr>\n",
       "    <tr>\n",
       "      <th>4</th>\n",
       "      <td>5</td>\n",
       "      <td>0.000559</td>\n",
       "      <td>34.985602</td>\n",
       "      <td>0.146326</td>\n",
       "      <td>0.000021</td>\n",
       "      <td>8.044630e+18</td>\n",
       "      <td>1237666184574271705</td>\n",
       "      <td>7145</td>\n",
       "      <td>56567</td>\n",
       "      <td>274</td>\n",
       "      <td>...</td>\n",
       "      <td>0.037337</td>\n",
       "      <td>0.722592</td>\n",
       "      <td>0.026249</td>\n",
       "      <td>126.50180</td>\n",
       "      <td>18.75811</td>\n",
       "      <td>31.387160</td>\n",
       "      <td>12.734440</td>\n",
       "      <td>0.009693</td>\n",
       "      <td>18.37597</td>\n",
       "      <td>0.009515</td>\n",
       "    </tr>\n",
       "  </tbody>\n",
       "</table>\n",
       "<p>5 rows × 559 columns</p>\n",
       "</div>"
      ],
      "text/plain": [
       "   ind        ra        dec    z_sdss  zerr_sdss  specObjID_sdss  \\\n",
       "0    1  0.000019  -4.760800  2.467120   0.002194    7.919679e+18   \n",
       "1    2  0.000091  24.902252  0.555936   0.000245    7.333218e+18   \n",
       "2    3  0.000346  -6.491940  0.514177   0.000130    8.047035e+18   \n",
       "3    4  0.000463  10.241074  0.654380   0.000170    6.960408e+18   \n",
       "4    5  0.000559  34.985602  0.146326   0.000021    8.044630e+18   \n",
       "\n",
       "        bestObjID_sdss  plate_sdss  mjd_sdss  fiberID_sdss  ...  expRadErr_g  \\\n",
       "0                    0        7034     56564           360  ...          NaN   \n",
       "1  1237666309095751941        6513     56543           843  ...    11.760200   \n",
       "2  1237680243597902184        7147     56574           831  ...     1.559838   \n",
       "3  1237679319089349467        6182     56190           346  ...     2.020618   \n",
       "4  1237666184574271705        7145     56567           274  ...     0.037337   \n",
       "\n",
       "    expAB_g expABErr_g   expPhi_g  expMag_g  expFlux_g  expFluxIvar_g  \\\n",
       "0       NaN        NaN        NaN       NaN        NaN            NaN   \n",
       "1  0.249997   0.369362   83.70193  22.08381   1.461627       1.991625   \n",
       "2  0.147778   0.201906   84.34074  21.86258   1.794235      11.132140   \n",
       "3  0.265576   0.520042   43.52781  22.94896   0.649079      20.061290   \n",
       "4  0.722592   0.026249  126.50180  18.75811  31.387160      12.734440   \n",
       "\n",
       "   expMagErr_g  modelMag_g  modelMagErr_g  \n",
       "0          NaN         NaN            NaN  \n",
       "1     0.522415    23.18259       0.386604  \n",
       "2     0.180460    21.12392       0.183285  \n",
       "3     0.359881    23.39049       0.270960  \n",
       "4     0.009693    18.37597       0.009515  \n",
       "\n",
       "[5 rows x 559 columns]"
      ]
     },
     "metadata": {},
     "output_type": "display_data"
    }
   ],
   "source": [
    "# конвертация в датафрейм\n",
    "RCSED_V2 = pd.DataFrame(np.array(data).byteswap().newbyteorder())\n",
    "display(RCSED_V2.head())"
   ]
  },
  {
   "cell_type": "code",
   "execution_count": 137,
   "metadata": {},
   "outputs": [
    {
     "data": {
      "text/plain": [
       "0                1\n",
       "1                2\n",
       "2                3\n",
       "3                4\n",
       "4                5\n",
       "            ...   \n",
       "4105511    4240799\n",
       "4105512    4240800\n",
       "4105513    4240801\n",
       "4105514    4240802\n",
       "4105515    4240803\n",
       "Name: ind, Length: 4105516, dtype: int32"
      ]
     },
     "execution_count": 137,
     "metadata": {},
     "output_type": "execute_result"
    }
   ],
   "source": [
    "RCSED_V2.ind"
   ]
  },
  {
   "cell_type": "code",
   "execution_count": 76,
   "metadata": {},
   "outputs": [],
   "source": [
    "ID_cols = list(RCSED_V2.filter(regex='ID'))"
   ]
  },
  {
   "cell_type": "code",
   "execution_count": 77,
   "metadata": {},
   "outputs": [],
   "source": [
    "#ID_cols.append('ind')\n",
    "ID_cols.append('recno_uzc')"
   ]
  },
  {
   "cell_type": "code",
   "execution_count": 78,
   "metadata": {},
   "outputs": [
    {
     "data": {
      "text/plain": [
       "['specObjID_sdss',\n",
       " 'bestObjID_sdss',\n",
       " 'fiberID_sdss',\n",
       " 'SPECT_ID_lega_c',\n",
       " 'SPECID_gama',\n",
       " 'recno_uzc']"
      ]
     },
     "execution_count": 78,
     "metadata": {},
     "output_type": "execute_result"
    }
   ],
   "source": [
    "ID_cols"
   ]
  },
  {
   "cell_type": "code",
   "execution_count": 79,
   "metadata": {},
   "outputs": [],
   "source": [
    "RCSED_V2 = RCSED_V2[RCSED_V2.columns.drop(ID_cols)]"
   ]
  },
  {
   "cell_type": "code",
   "execution_count": 81,
   "metadata": {},
   "outputs": [],
   "source": [
    "cat_cols = ['SpecFile_wigglez', 'targetname_6df', 'SeqNum_2df', 'planid_lamost']"
   ]
  },
  {
   "cell_type": "code",
   "execution_count": 82,
   "metadata": {},
   "outputs": [],
   "source": [
    "RCSED_V2 = RCSED_V2[RCSED_V2.columns.drop(cat_cols)]"
   ]
  },
  {
   "cell_type": "code",
   "execution_count": 83,
   "metadata": {},
   "outputs": [
    {
     "data": {
      "text/plain": [
       "549"
      ]
     },
     "execution_count": 83,
     "metadata": {},
     "output_type": "execute_result"
    }
   ],
   "source": [
    "len(RCSED_V2.columns)"
   ]
  },
  {
   "cell_type": "code",
   "execution_count": 84,
   "metadata": {},
   "outputs": [
    {
     "data": {
      "text/html": [
       "<div>\n",
       "<style scoped>\n",
       "    .dataframe tbody tr th:only-of-type {\n",
       "        vertical-align: middle;\n",
       "    }\n",
       "\n",
       "    .dataframe tbody tr th {\n",
       "        vertical-align: top;\n",
       "    }\n",
       "\n",
       "    .dataframe thead th {\n",
       "        text-align: right;\n",
       "    }\n",
       "</style>\n",
       "<table border=\"1\" class=\"dataframe\">\n",
       "  <thead>\n",
       "    <tr style=\"text-align: right;\">\n",
       "      <th></th>\n",
       "      <th>ind</th>\n",
       "      <th>ra</th>\n",
       "      <th>dec</th>\n",
       "      <th>z_sdss</th>\n",
       "      <th>zerr_sdss</th>\n",
       "      <th>plate_sdss</th>\n",
       "      <th>mjd_sdss</th>\n",
       "      <th>z_2df</th>\n",
       "      <th>q_z_2df</th>\n",
       "      <th>z_6df</th>\n",
       "      <th>...</th>\n",
       "      <th>expRadErr_g</th>\n",
       "      <th>expAB_g</th>\n",
       "      <th>expABErr_g</th>\n",
       "      <th>expPhi_g</th>\n",
       "      <th>expMag_g</th>\n",
       "      <th>expFlux_g</th>\n",
       "      <th>expFluxIvar_g</th>\n",
       "      <th>expMagErr_g</th>\n",
       "      <th>modelMag_g</th>\n",
       "      <th>modelMagErr_g</th>\n",
       "    </tr>\n",
       "  </thead>\n",
       "  <tbody>\n",
       "    <tr>\n",
       "      <th>0</th>\n",
       "      <td>1</td>\n",
       "      <td>0.000019</td>\n",
       "      <td>-4.760800</td>\n",
       "      <td>2.467120</td>\n",
       "      <td>0.002194</td>\n",
       "      <td>7034</td>\n",
       "      <td>56564</td>\n",
       "      <td>NaN</td>\n",
       "      <td>-2147483648</td>\n",
       "      <td>NaN</td>\n",
       "      <td>...</td>\n",
       "      <td>NaN</td>\n",
       "      <td>NaN</td>\n",
       "      <td>NaN</td>\n",
       "      <td>NaN</td>\n",
       "      <td>NaN</td>\n",
       "      <td>NaN</td>\n",
       "      <td>NaN</td>\n",
       "      <td>NaN</td>\n",
       "      <td>NaN</td>\n",
       "      <td>NaN</td>\n",
       "    </tr>\n",
       "    <tr>\n",
       "      <th>1</th>\n",
       "      <td>2</td>\n",
       "      <td>0.000091</td>\n",
       "      <td>24.902252</td>\n",
       "      <td>0.555936</td>\n",
       "      <td>0.000245</td>\n",
       "      <td>6513</td>\n",
       "      <td>56543</td>\n",
       "      <td>NaN</td>\n",
       "      <td>-2147483648</td>\n",
       "      <td>NaN</td>\n",
       "      <td>...</td>\n",
       "      <td>11.760200</td>\n",
       "      <td>0.249997</td>\n",
       "      <td>0.369362</td>\n",
       "      <td>83.70193</td>\n",
       "      <td>22.08381</td>\n",
       "      <td>1.461627</td>\n",
       "      <td>1.991625</td>\n",
       "      <td>0.522415</td>\n",
       "      <td>23.18259</td>\n",
       "      <td>0.386604</td>\n",
       "    </tr>\n",
       "    <tr>\n",
       "      <th>2</th>\n",
       "      <td>3</td>\n",
       "      <td>0.000346</td>\n",
       "      <td>-6.491940</td>\n",
       "      <td>0.514177</td>\n",
       "      <td>0.000130</td>\n",
       "      <td>7147</td>\n",
       "      <td>56574</td>\n",
       "      <td>NaN</td>\n",
       "      <td>-2147483648</td>\n",
       "      <td>NaN</td>\n",
       "      <td>...</td>\n",
       "      <td>1.559838</td>\n",
       "      <td>0.147778</td>\n",
       "      <td>0.201906</td>\n",
       "      <td>84.34074</td>\n",
       "      <td>21.86258</td>\n",
       "      <td>1.794235</td>\n",
       "      <td>11.132140</td>\n",
       "      <td>0.180460</td>\n",
       "      <td>21.12392</td>\n",
       "      <td>0.183285</td>\n",
       "    </tr>\n",
       "    <tr>\n",
       "      <th>3</th>\n",
       "      <td>4</td>\n",
       "      <td>0.000463</td>\n",
       "      <td>10.241074</td>\n",
       "      <td>0.654380</td>\n",
       "      <td>0.000170</td>\n",
       "      <td>6182</td>\n",
       "      <td>56190</td>\n",
       "      <td>NaN</td>\n",
       "      <td>-2147483648</td>\n",
       "      <td>NaN</td>\n",
       "      <td>...</td>\n",
       "      <td>2.020618</td>\n",
       "      <td>0.265576</td>\n",
       "      <td>0.520042</td>\n",
       "      <td>43.52781</td>\n",
       "      <td>22.94896</td>\n",
       "      <td>0.649079</td>\n",
       "      <td>20.061290</td>\n",
       "      <td>0.359881</td>\n",
       "      <td>23.39049</td>\n",
       "      <td>0.270960</td>\n",
       "    </tr>\n",
       "    <tr>\n",
       "      <th>4</th>\n",
       "      <td>5</td>\n",
       "      <td>0.000559</td>\n",
       "      <td>34.985602</td>\n",
       "      <td>0.146326</td>\n",
       "      <td>0.000021</td>\n",
       "      <td>7145</td>\n",
       "      <td>56567</td>\n",
       "      <td>NaN</td>\n",
       "      <td>-2147483648</td>\n",
       "      <td>NaN</td>\n",
       "      <td>...</td>\n",
       "      <td>0.037337</td>\n",
       "      <td>0.722592</td>\n",
       "      <td>0.026249</td>\n",
       "      <td>126.50180</td>\n",
       "      <td>18.75811</td>\n",
       "      <td>31.387160</td>\n",
       "      <td>12.734440</td>\n",
       "      <td>0.009693</td>\n",
       "      <td>18.37597</td>\n",
       "      <td>0.009515</td>\n",
       "    </tr>\n",
       "  </tbody>\n",
       "</table>\n",
       "<p>5 rows × 549 columns</p>\n",
       "</div>"
      ],
      "text/plain": [
       "   ind        ra        dec    z_sdss  zerr_sdss  plate_sdss  mjd_sdss  z_2df  \\\n",
       "0    1  0.000019  -4.760800  2.467120   0.002194        7034     56564    NaN   \n",
       "1    2  0.000091  24.902252  0.555936   0.000245        6513     56543    NaN   \n",
       "2    3  0.000346  -6.491940  0.514177   0.000130        7147     56574    NaN   \n",
       "3    4  0.000463  10.241074  0.654380   0.000170        6182     56190    NaN   \n",
       "4    5  0.000559  34.985602  0.146326   0.000021        7145     56567    NaN   \n",
       "\n",
       "      q_z_2df  z_6df  ...  expRadErr_g   expAB_g  expABErr_g   expPhi_g  \\\n",
       "0 -2147483648    NaN  ...          NaN       NaN         NaN        NaN   \n",
       "1 -2147483648    NaN  ...    11.760200  0.249997    0.369362   83.70193   \n",
       "2 -2147483648    NaN  ...     1.559838  0.147778    0.201906   84.34074   \n",
       "3 -2147483648    NaN  ...     2.020618  0.265576    0.520042   43.52781   \n",
       "4 -2147483648    NaN  ...     0.037337  0.722592    0.026249  126.50180   \n",
       "\n",
       "   expMag_g  expFlux_g  expFluxIvar_g  expMagErr_g  modelMag_g  modelMagErr_g  \n",
       "0       NaN        NaN            NaN          NaN         NaN            NaN  \n",
       "1  22.08381   1.461627       1.991625     0.522415    23.18259       0.386604  \n",
       "2  21.86258   1.794235      11.132140     0.180460    21.12392       0.183285  \n",
       "3  22.94896   0.649079      20.061290     0.359881    23.39049       0.270960  \n",
       "4  18.75811  31.387160      12.734440     0.009693    18.37597       0.009515  \n",
       "\n",
       "[5 rows x 549 columns]"
      ]
     },
     "execution_count": 84,
     "metadata": {},
     "output_type": "execute_result"
    }
   ],
   "source": [
    "RCSED_V2.head()"
   ]
  },
  {
   "cell_type": "code",
   "execution_count": 85,
   "metadata": {},
   "outputs": [],
   "source": [
    "len_data = len(RCSED_V2)"
   ]
  },
  {
   "cell_type": "code",
   "execution_count": 86,
   "metadata": {},
   "outputs": [
    {
     "data": {
      "text/plain": [
       "4105516"
      ]
     },
     "execution_count": 86,
     "metadata": {},
     "output_type": "execute_result"
    }
   ],
   "source": [
    "len_data"
   ]
  },
  {
   "cell_type": "code",
   "execution_count": 22,
   "metadata": {},
   "outputs": [
    {
     "data": {
      "text/plain": [
       "0.008394316329542986"
      ]
     },
     "execution_count": 22,
     "metadata": {},
     "output_type": "execute_result"
    }
   ],
   "source": [
    "sum(np.array(RCSED_V2.OBJNO_deep2) != -2147483648) / len_data"
   ]
  },
  {
   "cell_type": "code",
   "execution_count": 23,
   "metadata": {},
   "outputs": [],
   "source": [
    "#replace NaN"
   ]
  },
  {
   "cell_type": "code",
   "execution_count": 87,
   "metadata": {},
   "outputs": [],
   "source": [
    "def null_treating(cols, null):\n",
    "    for col in cols:\n",
    "        if sum(np.array(RCSED_V2[col]) == null) / len(RCSED_V2) > 0.9:\n",
    "            RCSED_V2.drop([col],axis=1, inplace=True)\n",
    "            cols.remove(col)\n",
    "        else:\n",
    "            RCSED_V2[col].replace(null, np.nan) "
   ]
  },
  {
   "cell_type": "code",
   "execution_count": 88,
   "metadata": {},
   "outputs": [],
   "source": [
    "#null = -2147483648\n",
    "cols_NaN1 = ['mjd_sdss', 'q_z_2df', 'specid_6df', 'obsid_lamost', 'lmjd_lamost', 'mjd_lamost',\n",
    "             'OBJNO_deep2', 'OBJNO_deep3']"
   ]
  },
  {
   "cell_type": "code",
   "execution_count": 89,
   "metadata": {},
   "outputs": [],
   "source": [
    "#null = -32768\n",
    "cols_NaN2 = ['plate_sdss', 'quality_6df', 'f_z_lega_c', 'Q_wigglez', 'NQ_gama']"
   ]
  },
  {
   "cell_type": "code",
   "execution_count": 90,
   "metadata": {},
   "outputs": [],
   "source": [
    "#null = 255\n",
    "cols_NaN3 = ['spid_lamost', 'fiberid_lamost']"
   ]
  },
  {
   "cell_type": "code",
   "execution_count": 91,
   "metadata": {},
   "outputs": [],
   "source": [
    "null_treating(cols_NaN1, -2147483648)"
   ]
  },
  {
   "cell_type": "code",
   "execution_count": 92,
   "metadata": {},
   "outputs": [],
   "source": [
    "null_treating(cols_NaN2, -32768)"
   ]
  },
  {
   "cell_type": "code",
   "execution_count": 93,
   "metadata": {},
   "outputs": [],
   "source": [
    "null_treating(cols_NaN3, 255)"
   ]
  },
  {
   "cell_type": "code",
   "execution_count": 94,
   "metadata": {},
   "outputs": [
    {
     "data": {
      "text/plain": [
       "542"
      ]
     },
     "execution_count": 94,
     "metadata": {},
     "output_type": "execute_result"
    }
   ],
   "source": [
    "len(RCSED_V2.columns)"
   ]
  },
  {
   "cell_type": "code",
   "execution_count": 95,
   "metadata": {},
   "outputs": [],
   "source": [
    "#  Anomaly detection\n",
    "\n",
    "top_values = []\n",
    "nan = []\n",
    "\n",
    "for col in RCSED_V2.columns:\n",
    "    vc = RCSED_V2[col].value_counts(ascending=False).head(1)\n",
    "    nan = (RCSED_V2[col].isna()).sum()\n",
    "    total = nan\n",
    "    if vc[vc.index[0]] >1000:\n",
    "        total = vc[vc.index[0]]+nan\n",
    "    top_values.append([vc.name, vc.index[0], vc[vc.index[0]], nan, total])\n",
    "    \n",
    "anomaly = pd.DataFrame(data=top_values, columns = ['column_name', 'anomaly_value', 'value_counts', 'nan', 'total'])"
   ]
  },
  {
   "cell_type": "code",
   "execution_count": 96,
   "metadata": {},
   "outputs": [
    {
     "data": {
      "text/html": [
       "<div>\n",
       "<style scoped>\n",
       "    .dataframe tbody tr th:only-of-type {\n",
       "        vertical-align: middle;\n",
       "    }\n",
       "\n",
       "    .dataframe tbody tr th {\n",
       "        vertical-align: top;\n",
       "    }\n",
       "\n",
       "    .dataframe thead th {\n",
       "        text-align: right;\n",
       "    }\n",
       "</style>\n",
       "<table border=\"1\" class=\"dataframe\">\n",
       "  <thead>\n",
       "    <tr style=\"text-align: right;\">\n",
       "      <th></th>\n",
       "      <th>column_name</th>\n",
       "      <th>anomaly_value</th>\n",
       "      <th>value_counts</th>\n",
       "      <th>nan</th>\n",
       "      <th>total</th>\n",
       "    </tr>\n",
       "  </thead>\n",
       "  <tbody>\n",
       "    <tr>\n",
       "      <th>228</th>\n",
       "      <td>KSERMAG2D_ukidss</td>\n",
       "      <td>-9.999995e+08</td>\n",
       "      <td>1070222</td>\n",
       "      <td>3035294</td>\n",
       "      <td>4105516</td>\n",
       "    </tr>\n",
       "    <tr>\n",
       "      <th>226</th>\n",
       "      <td>KPSFMAG_ukidss</td>\n",
       "      <td>-9.999995e+08</td>\n",
       "      <td>1070222</td>\n",
       "      <td>3035294</td>\n",
       "      <td>4105516</td>\n",
       "    </tr>\n",
       "    <tr>\n",
       "      <th>229</th>\n",
       "      <td>KSERMAG2DERR_ukidss</td>\n",
       "      <td>-9.999995e+08</td>\n",
       "      <td>1070222</td>\n",
       "      <td>3035294</td>\n",
       "      <td>4105516</td>\n",
       "    </tr>\n",
       "    <tr>\n",
       "      <th>13</th>\n",
       "      <td>z_err_cfa</td>\n",
       "      <td>0.000000e+00</td>\n",
       "      <td>40726</td>\n",
       "      <td>4064789</td>\n",
       "      <td>4105515</td>\n",
       "    </tr>\n",
       "    <tr>\n",
       "      <th>11</th>\n",
       "      <td>z_err_uzc</td>\n",
       "      <td>0.000000e+00</td>\n",
       "      <td>19372</td>\n",
       "      <td>4086143</td>\n",
       "      <td>4105515</td>\n",
       "    </tr>\n",
       "    <tr>\n",
       "      <th>19</th>\n",
       "      <td>z_lega_c</td>\n",
       "      <td>7.282000e-01</td>\n",
       "      <td>5</td>\n",
       "      <td>4103710</td>\n",
       "      <td>4103710</td>\n",
       "    </tr>\n",
       "    <tr>\n",
       "      <th>21</th>\n",
       "      <td>f_spec_lega_c</td>\n",
       "      <td>-3.276800e+04</td>\n",
       "      <td>4103699</td>\n",
       "      <td>0</td>\n",
       "      <td>4103699</td>\n",
       "    </tr>\n",
       "    <tr>\n",
       "      <th>20</th>\n",
       "      <td>f_z_lega_c</td>\n",
       "      <td>-3.276800e+04</td>\n",
       "      <td>4103699</td>\n",
       "      <td>0</td>\n",
       "      <td>4103699</td>\n",
       "    </tr>\n",
       "    <tr>\n",
       "      <th>24</th>\n",
       "      <td>Z_deep3</td>\n",
       "      <td>5.334126e-01</td>\n",
       "      <td>4</td>\n",
       "      <td>4098346</td>\n",
       "      <td>4098346</td>\n",
       "    </tr>\n",
       "    <tr>\n",
       "      <th>167</th>\n",
       "      <td>e_v_petro_skymapper</td>\n",
       "      <td>1.340000e-01</td>\n",
       "      <td>48</td>\n",
       "      <td>4098322</td>\n",
       "      <td>4098322</td>\n",
       "    </tr>\n",
       "    <tr>\n",
       "      <th>166</th>\n",
       "      <td>v_petro_skymapper</td>\n",
       "      <td>1.763700e+01</td>\n",
       "      <td>11</td>\n",
       "      <td>4098322</td>\n",
       "      <td>4098322</td>\n",
       "    </tr>\n",
       "    <tr>\n",
       "      <th>164</th>\n",
       "      <td>u_petro_skymapper</td>\n",
       "      <td>1.828700e+01</td>\n",
       "      <td>17</td>\n",
       "      <td>4095369</td>\n",
       "      <td>4095369</td>\n",
       "    </tr>\n",
       "    <tr>\n",
       "      <th>165</th>\n",
       "      <td>e_u_petro_skymapper</td>\n",
       "      <td>1.470000e-01</td>\n",
       "      <td>90</td>\n",
       "      <td>4095369</td>\n",
       "      <td>4095369</td>\n",
       "    </tr>\n",
       "    <tr>\n",
       "      <th>10</th>\n",
       "      <td>z_uzc</td>\n",
       "      <td>1.719523e-02</td>\n",
       "      <td>9</td>\n",
       "      <td>4086151</td>\n",
       "      <td>4086151</td>\n",
       "    </tr>\n",
       "    <tr>\n",
       "      <th>29</th>\n",
       "      <td>dz</td>\n",
       "      <td>7.000000e+01</td>\n",
       "      <td>4080327</td>\n",
       "      <td>0</td>\n",
       "      <td>4080327</td>\n",
       "    </tr>\n",
       "    <tr>\n",
       "      <th>498</th>\n",
       "      <td>phot_data_new_galex</td>\n",
       "      <td>8.400000e+01</td>\n",
       "      <td>4076694</td>\n",
       "      <td>0</td>\n",
       "      <td>4076694</td>\n",
       "    </tr>\n",
       "    <tr>\n",
       "      <th>22</th>\n",
       "      <td>Z_deep2</td>\n",
       "      <td>1.241155e+00</td>\n",
       "      <td>3</td>\n",
       "      <td>4071053</td>\n",
       "      <td>4071053</td>\n",
       "    </tr>\n",
       "    <tr>\n",
       "      <th>23</th>\n",
       "      <td>OBJNO_deep2</td>\n",
       "      <td>-2.147484e+09</td>\n",
       "      <td>4071053</td>\n",
       "      <td>0</td>\n",
       "      <td>4071053</td>\n",
       "    </tr>\n",
       "    <tr>\n",
       "      <th>168</th>\n",
       "      <td>g_petro_skymapper</td>\n",
       "      <td>1.813900e+01</td>\n",
       "      <td>31</td>\n",
       "      <td>4070882</td>\n",
       "      <td>4070882</td>\n",
       "    </tr>\n",
       "  </tbody>\n",
       "</table>\n",
       "</div>"
      ],
      "text/plain": [
       "             column_name  anomaly_value  value_counts      nan    total\n",
       "228     KSERMAG2D_ukidss  -9.999995e+08       1070222  3035294  4105516\n",
       "226       KPSFMAG_ukidss  -9.999995e+08       1070222  3035294  4105516\n",
       "229  KSERMAG2DERR_ukidss  -9.999995e+08       1070222  3035294  4105516\n",
       "13             z_err_cfa   0.000000e+00         40726  4064789  4105515\n",
       "11             z_err_uzc   0.000000e+00         19372  4086143  4105515\n",
       "19              z_lega_c   7.282000e-01             5  4103710  4103710\n",
       "21         f_spec_lega_c  -3.276800e+04       4103699        0  4103699\n",
       "20            f_z_lega_c  -3.276800e+04       4103699        0  4103699\n",
       "24               Z_deep3   5.334126e-01             4  4098346  4098346\n",
       "167  e_v_petro_skymapper   1.340000e-01            48  4098322  4098322\n",
       "166    v_petro_skymapper   1.763700e+01            11  4098322  4098322\n",
       "164    u_petro_skymapper   1.828700e+01            17  4095369  4095369\n",
       "165  e_u_petro_skymapper   1.470000e-01            90  4095369  4095369\n",
       "10                 z_uzc   1.719523e-02             9  4086151  4086151\n",
       "29                    dz   7.000000e+01       4080327        0  4080327\n",
       "498  phot_data_new_galex   8.400000e+01       4076694        0  4076694\n",
       "22               Z_deep2   1.241155e+00             3  4071053  4071053\n",
       "23           OBJNO_deep2  -2.147484e+09       4071053        0  4071053\n",
       "168    g_petro_skymapper   1.813900e+01            31  4070882  4070882"
      ]
     },
     "execution_count": 96,
     "metadata": {},
     "output_type": "execute_result"
    }
   ],
   "source": [
    "anomaly.sort_values(by='total', ascending=False)[1:20]"
   ]
  },
  {
   "cell_type": "code",
   "execution_count": 97,
   "metadata": {},
   "outputs": [],
   "source": [
    "#4105516*0.9 = 3694964\n",
    "\n",
    "col_anomaly = anomaly[anomaly.total>3694964].column_name.to_list()"
   ]
  },
  {
   "cell_type": "code",
   "execution_count": 98,
   "metadata": {},
   "outputs": [
    {
     "data": {
      "text/plain": [
       "194"
      ]
     },
     "execution_count": 98,
     "metadata": {},
     "output_type": "execute_result"
    }
   ],
   "source": [
    "len(col_anomaly)"
   ]
  },
  {
   "cell_type": "code",
   "execution_count": 99,
   "metadata": {},
   "outputs": [],
   "source": [
    "RCSED_V2.drop(col_anomaly, axis=1, inplace=True)"
   ]
  },
  {
   "cell_type": "code",
   "execution_count": 100,
   "metadata": {},
   "outputs": [
    {
     "data": {
      "text/plain": [
       "348"
      ]
     },
     "execution_count": 100,
     "metadata": {},
     "output_type": "execute_result"
    }
   ],
   "source": [
    "len(RCSED_V2.columns)"
   ]
  },
  {
   "cell_type": "code",
   "execution_count": 38,
   "metadata": {},
   "outputs": [
    {
     "data": {
      "image/png": "[encoded data removed]",
      "text/plain": [
       "<Figure size 432x288 with 1 Axes>"
      ]
     },
     "metadata": {
      "needs_background": "light"
     },
     "output_type": "display_data"
    }
   ],
   "source": [
    "sns.distplot(RCSED_V2.w3sigmag_7_wise)\n",
    "plt.title('w3sigmag_7_wise')\n",
    "plt.show()"
   ]
  },
  {
   "cell_type": "code",
   "execution_count": 40,
   "metadata": {},
   "outputs": [
    {
     "data": {
      "text/plain": [
       "540"
      ]
     },
     "execution_count": 40,
     "metadata": {},
     "output_type": "execute_result"
    }
   ],
   "source": [
    "len(np.unique(RCSED_V2.w3sigmag_7_wise))-2202889"
   ]
  },
  {
   "cell_type": "markdown",
   "metadata": {},
   "source": [
    "**To do**\n",
    "*IterativeImputer*\n",
    "-> models each feature with missing values as a function of other features, and uses that estimate for imputation"
   ]
  },
  {
   "cell_type": "code",
   "execution_count": 46,
   "metadata": {},
   "outputs": [
    {
     "data": {
      "text/plain": [
       "1029677"
      ]
     },
     "execution_count": 46,
     "metadata": {},
     "output_type": "execute_result"
    }
   ],
   "source": [
    "len(np.unique(RCSED_V2.KAPERMAG3ERR_ukidss))-2967341"
   ]
  },
  {
   "cell_type": "code",
   "execution_count": 101,
   "metadata": {},
   "outputs": [],
   "source": [
    "col_for_nan = anomaly2.sort_values(by='total', ascending=False)[1:149].column_name.to_list()\n",
    "col_anomaly = anomaly2.sort_values(by='total', ascending=False)[1:149].anomaly_value.to_list()"
   ]
  },
  {
   "cell_type": "code",
   "execution_count": 102,
   "metadata": {},
   "outputs": [],
   "source": [
    "for col, anomaly in zip(col_for_nan, col_anomaly):\n",
    "    RCSED_V2[col].replace(anomaly, np.nan)"
   ]
  },
  {
   "cell_type": "code",
   "execution_count": 103,
   "metadata": {},
   "outputs": [],
   "source": [
    "data_0 = RCSED_V2.fillna(0)"
   ]
  },
  {
   "cell_type": "code",
   "execution_count": 104,
   "metadata": {},
   "outputs": [
    {
     "data": {
      "text/html": [
       "<div>\n",
       "<style scoped>\n",
       "    .dataframe tbody tr th:only-of-type {\n",
       "        vertical-align: middle;\n",
       "    }\n",
       "\n",
       "    .dataframe tbody tr th {\n",
       "        vertical-align: top;\n",
       "    }\n",
       "\n",
       "    .dataframe thead th {\n",
       "        text-align: right;\n",
       "    }\n",
       "</style>\n",
       "<table border=\"1\" class=\"dataframe\">\n",
       "  <thead>\n",
       "    <tr style=\"text-align: right;\">\n",
       "      <th></th>\n",
       "      <th>ind</th>\n",
       "      <th>ra</th>\n",
       "      <th>dec</th>\n",
       "      <th>z_sdss</th>\n",
       "      <th>zerr_sdss</th>\n",
       "      <th>plate_sdss</th>\n",
       "      <th>mjd_sdss</th>\n",
       "      <th>E_bv</th>\n",
       "      <th>A_u_sdss</th>\n",
       "      <th>A_g_sdss</th>\n",
       "      <th>...</th>\n",
       "      <th>expRadErr_g</th>\n",
       "      <th>expAB_g</th>\n",
       "      <th>expABErr_g</th>\n",
       "      <th>expPhi_g</th>\n",
       "      <th>expMag_g</th>\n",
       "      <th>expFlux_g</th>\n",
       "      <th>expFluxIvar_g</th>\n",
       "      <th>expMagErr_g</th>\n",
       "      <th>modelMag_g</th>\n",
       "      <th>modelMagErr_g</th>\n",
       "    </tr>\n",
       "  </thead>\n",
       "  <tbody>\n",
       "    <tr>\n",
       "      <th>0</th>\n",
       "      <td>1</td>\n",
       "      <td>0.000019</td>\n",
       "      <td>-4.760800</td>\n",
       "      <td>2.467120</td>\n",
       "      <td>0.002194</td>\n",
       "      <td>7034</td>\n",
       "      <td>56564</td>\n",
       "      <td>0.032031</td>\n",
       "      <td>0.135779</td>\n",
       "      <td>0.105798</td>\n",
       "      <td>...</td>\n",
       "      <td>0.000000</td>\n",
       "      <td>0.000000</td>\n",
       "      <td>0.000000</td>\n",
       "      <td>0.00000</td>\n",
       "      <td>0.00000</td>\n",
       "      <td>0.000000</td>\n",
       "      <td>0.000000</td>\n",
       "      <td>0.000000</td>\n",
       "      <td>0.00000</td>\n",
       "      <td>0.000000</td>\n",
       "    </tr>\n",
       "    <tr>\n",
       "      <th>1</th>\n",
       "      <td>2</td>\n",
       "      <td>0.000091</td>\n",
       "      <td>24.902252</td>\n",
       "      <td>0.555936</td>\n",
       "      <td>0.000245</td>\n",
       "      <td>6513</td>\n",
       "      <td>56543</td>\n",
       "      <td>0.081351</td>\n",
       "      <td>0.344846</td>\n",
       "      <td>0.268702</td>\n",
       "      <td>...</td>\n",
       "      <td>11.760200</td>\n",
       "      <td>0.249997</td>\n",
       "      <td>0.369362</td>\n",
       "      <td>83.70193</td>\n",
       "      <td>22.08381</td>\n",
       "      <td>1.461627</td>\n",
       "      <td>1.991625</td>\n",
       "      <td>0.522415</td>\n",
       "      <td>23.18259</td>\n",
       "      <td>0.386604</td>\n",
       "    </tr>\n",
       "    <tr>\n",
       "      <th>2</th>\n",
       "      <td>3</td>\n",
       "      <td>0.000346</td>\n",
       "      <td>-6.491940</td>\n",
       "      <td>0.514177</td>\n",
       "      <td>0.000130</td>\n",
       "      <td>7147</td>\n",
       "      <td>56574</td>\n",
       "      <td>0.037788</td>\n",
       "      <td>0.160183</td>\n",
       "      <td>0.124814</td>\n",
       "      <td>...</td>\n",
       "      <td>1.559838</td>\n",
       "      <td>0.147778</td>\n",
       "      <td>0.201906</td>\n",
       "      <td>84.34074</td>\n",
       "      <td>21.86258</td>\n",
       "      <td>1.794235</td>\n",
       "      <td>11.132140</td>\n",
       "      <td>0.180460</td>\n",
       "      <td>21.12392</td>\n",
       "      <td>0.183285</td>\n",
       "    </tr>\n",
       "    <tr>\n",
       "      <th>3</th>\n",
       "      <td>4</td>\n",
       "      <td>0.000463</td>\n",
       "      <td>10.241074</td>\n",
       "      <td>0.654380</td>\n",
       "      <td>0.000170</td>\n",
       "      <td>6182</td>\n",
       "      <td>56190</td>\n",
       "      <td>0.087513</td>\n",
       "      <td>0.370967</td>\n",
       "      <td>0.289055</td>\n",
       "      <td>...</td>\n",
       "      <td>2.020618</td>\n",
       "      <td>0.265576</td>\n",
       "      <td>0.520042</td>\n",
       "      <td>43.52781</td>\n",
       "      <td>22.94896</td>\n",
       "      <td>0.649079</td>\n",
       "      <td>20.061290</td>\n",
       "      <td>0.359881</td>\n",
       "      <td>23.39049</td>\n",
       "      <td>0.270960</td>\n",
       "    </tr>\n",
       "    <tr>\n",
       "      <th>4</th>\n",
       "      <td>5</td>\n",
       "      <td>0.000559</td>\n",
       "      <td>34.985602</td>\n",
       "      <td>0.146326</td>\n",
       "      <td>0.000021</td>\n",
       "      <td>7145</td>\n",
       "      <td>56567</td>\n",
       "      <td>0.077543</td>\n",
       "      <td>0.328706</td>\n",
       "      <td>0.256126</td>\n",
       "      <td>...</td>\n",
       "      <td>0.037337</td>\n",
       "      <td>0.722592</td>\n",
       "      <td>0.026249</td>\n",
       "      <td>126.50180</td>\n",
       "      <td>18.75811</td>\n",
       "      <td>31.387160</td>\n",
       "      <td>12.734440</td>\n",
       "      <td>0.009693</td>\n",
       "      <td>18.37597</td>\n",
       "      <td>0.009515</td>\n",
       "    </tr>\n",
       "    <tr>\n",
       "      <th>...</th>\n",
       "      <td>...</td>\n",
       "      <td>...</td>\n",
       "      <td>...</td>\n",
       "      <td>...</td>\n",
       "      <td>...</td>\n",
       "      <td>...</td>\n",
       "      <td>...</td>\n",
       "      <td>...</td>\n",
       "      <td>...</td>\n",
       "      <td>...</td>\n",
       "      <td>...</td>\n",
       "      <td>...</td>\n",
       "      <td>...</td>\n",
       "      <td>...</td>\n",
       "      <td>...</td>\n",
       "      <td>...</td>\n",
       "      <td>...</td>\n",
       "      <td>...</td>\n",
       "      <td>...</td>\n",
       "      <td>...</td>\n",
       "      <td>...</td>\n",
       "    </tr>\n",
       "    <tr>\n",
       "      <th>4105511</th>\n",
       "      <td>4240799</td>\n",
       "      <td>359.999290</td>\n",
       "      <td>34.720838</td>\n",
       "      <td>3.113524</td>\n",
       "      <td>0.000393</td>\n",
       "      <td>7145</td>\n",
       "      <td>56567</td>\n",
       "      <td>0.079144</td>\n",
       "      <td>0.335492</td>\n",
       "      <td>0.261413</td>\n",
       "      <td>...</td>\n",
       "      <td>0.096093</td>\n",
       "      <td>0.999857</td>\n",
       "      <td>0.214987</td>\n",
       "      <td>183.73740</td>\n",
       "      <td>20.40784</td>\n",
       "      <td>6.867387</td>\n",
       "      <td>60.197580</td>\n",
       "      <td>0.020370</td>\n",
       "      <td>20.42196</td>\n",
       "      <td>0.019423</td>\n",
       "    </tr>\n",
       "    <tr>\n",
       "      <th>4105512</th>\n",
       "      <td>4240800</td>\n",
       "      <td>359.999620</td>\n",
       "      <td>3.268586</td>\n",
       "      <td>1.233161</td>\n",
       "      <td>0.000179</td>\n",
       "      <td>8741</td>\n",
       "      <td>57390</td>\n",
       "      <td>0.023462</td>\n",
       "      <td>0.099455</td>\n",
       "      <td>0.077495</td>\n",
       "      <td>...</td>\n",
       "      <td>0.000000</td>\n",
       "      <td>0.000000</td>\n",
       "      <td>0.000000</td>\n",
       "      <td>0.00000</td>\n",
       "      <td>0.00000</td>\n",
       "      <td>0.000000</td>\n",
       "      <td>0.000000</td>\n",
       "      <td>0.000000</td>\n",
       "      <td>0.00000</td>\n",
       "      <td>0.000000</td>\n",
       "    </tr>\n",
       "    <tr>\n",
       "      <th>4105513</th>\n",
       "      <td>4240801</td>\n",
       "      <td>359.999760</td>\n",
       "      <td>20.721079</td>\n",
       "      <td>2.009941</td>\n",
       "      <td>0.000532</td>\n",
       "      <td>7595</td>\n",
       "      <td>56957</td>\n",
       "      <td>0.067442</td>\n",
       "      <td>0.285888</td>\n",
       "      <td>0.222762</td>\n",
       "      <td>...</td>\n",
       "      <td>0.098074</td>\n",
       "      <td>0.745419</td>\n",
       "      <td>0.654953</td>\n",
       "      <td>96.35545</td>\n",
       "      <td>20.30583</td>\n",
       "      <td>7.544051</td>\n",
       "      <td>31.594700</td>\n",
       "      <td>0.025597</td>\n",
       "      <td>20.33737</td>\n",
       "      <td>0.022423</td>\n",
       "    </tr>\n",
       "    <tr>\n",
       "      <th>4105514</th>\n",
       "      <td>4240802</td>\n",
       "      <td>359.999786</td>\n",
       "      <td>-35.213409</td>\n",
       "      <td>0.000000</td>\n",
       "      <td>0.000000</td>\n",
       "      <td>-32768</td>\n",
       "      <td>-2147483648</td>\n",
       "      <td>0.012461</td>\n",
       "      <td>0.052821</td>\n",
       "      <td>0.041158</td>\n",
       "      <td>...</td>\n",
       "      <td>0.000000</td>\n",
       "      <td>0.000000</td>\n",
       "      <td>0.000000</td>\n",
       "      <td>0.00000</td>\n",
       "      <td>0.00000</td>\n",
       "      <td>0.000000</td>\n",
       "      <td>0.000000</td>\n",
       "      <td>0.000000</td>\n",
       "      <td>0.00000</td>\n",
       "      <td>0.000000</td>\n",
       "    </tr>\n",
       "    <tr>\n",
       "      <th>4105515</th>\n",
       "      <td>4240803</td>\n",
       "      <td>359.999940</td>\n",
       "      <td>34.747127</td>\n",
       "      <td>2.397724</td>\n",
       "      <td>0.000349</td>\n",
       "      <td>7145</td>\n",
       "      <td>56567</td>\n",
       "      <td>0.078324</td>\n",
       "      <td>0.332015</td>\n",
       "      <td>0.258704</td>\n",
       "      <td>...</td>\n",
       "      <td>0.000000</td>\n",
       "      <td>0.000000</td>\n",
       "      <td>0.000000</td>\n",
       "      <td>0.00000</td>\n",
       "      <td>0.00000</td>\n",
       "      <td>0.000000</td>\n",
       "      <td>0.000000</td>\n",
       "      <td>0.000000</td>\n",
       "      <td>0.00000</td>\n",
       "      <td>0.000000</td>\n",
       "    </tr>\n",
       "  </tbody>\n",
       "</table>\n",
       "<p>4105516 rows × 348 columns</p>\n",
       "</div>"
      ],
      "text/plain": [
       "             ind          ra        dec    z_sdss  zerr_sdss  plate_sdss  \\\n",
       "0              1    0.000019  -4.760800  2.467120   0.002194        7034   \n",
       "1              2    0.000091  24.902252  0.555936   0.000245        6513   \n",
       "2              3    0.000346  -6.491940  0.514177   0.000130        7147   \n",
       "3              4    0.000463  10.241074  0.654380   0.000170        6182   \n",
       "4              5    0.000559  34.985602  0.146326   0.000021        7145   \n",
       "...          ...         ...        ...       ...        ...         ...   \n",
       "4105511  4240799  359.999290  34.720838  3.113524   0.000393        7145   \n",
       "4105512  4240800  359.999620   3.268586  1.233161   0.000179        8741   \n",
       "4105513  4240801  359.999760  20.721079  2.009941   0.000532        7595   \n",
       "4105514  4240802  359.999786 -35.213409  0.000000   0.000000      -32768   \n",
       "4105515  4240803  359.999940  34.747127  2.397724   0.000349        7145   \n",
       "\n",
       "           mjd_sdss      E_bv  A_u_sdss  A_g_sdss  ...  expRadErr_g   expAB_g  \\\n",
       "0             56564  0.032031  0.135779  0.105798  ...     0.000000  0.000000   \n",
       "1             56543  0.081351  0.344846  0.268702  ...    11.760200  0.249997   \n",
       "2             56574  0.037788  0.160183  0.124814  ...     1.559838  0.147778   \n",
       "3             56190  0.087513  0.370967  0.289055  ...     2.020618  0.265576   \n",
       "4             56567  0.077543  0.328706  0.256126  ...     0.037337  0.722592   \n",
       "...             ...       ...       ...       ...  ...          ...       ...   \n",
       "4105511       56567  0.079144  0.335492  0.261413  ...     0.096093  0.999857   \n",
       "4105512       57390  0.023462  0.099455  0.077495  ...     0.000000  0.000000   \n",
       "4105513       56957  0.067442  0.285888  0.222762  ...     0.098074  0.745419   \n",
       "4105514 -2147483648  0.012461  0.052821  0.041158  ...     0.000000  0.000000   \n",
       "4105515       56567  0.078324  0.332015  0.258704  ...     0.000000  0.000000   \n",
       "\n",
       "         expABErr_g   expPhi_g  expMag_g  expFlux_g  expFluxIvar_g  \\\n",
       "0          0.000000    0.00000   0.00000   0.000000       0.000000   \n",
       "1          0.369362   83.70193  22.08381   1.461627       1.991625   \n",
       "2          0.201906   84.34074  21.86258   1.794235      11.132140   \n",
       "3          0.520042   43.52781  22.94896   0.649079      20.061290   \n",
       "4          0.026249  126.50180  18.75811  31.387160      12.734440   \n",
       "...             ...        ...       ...        ...            ...   \n",
       "4105511    0.214987  183.73740  20.40784   6.867387      60.197580   \n",
       "4105512    0.000000    0.00000   0.00000   0.000000       0.000000   \n",
       "4105513    0.654953   96.35545  20.30583   7.544051      31.594700   \n",
       "4105514    0.000000    0.00000   0.00000   0.000000       0.000000   \n",
       "4105515    0.000000    0.00000   0.00000   0.000000       0.000000   \n",
       "\n",
       "         expMagErr_g  modelMag_g  modelMagErr_g  \n",
       "0           0.000000     0.00000       0.000000  \n",
       "1           0.522415    23.18259       0.386604  \n",
       "2           0.180460    21.12392       0.183285  \n",
       "3           0.359881    23.39049       0.270960  \n",
       "4           0.009693    18.37597       0.009515  \n",
       "...              ...         ...            ...  \n",
       "4105511     0.020370    20.42196       0.019423  \n",
       "4105512     0.000000     0.00000       0.000000  \n",
       "4105513     0.025597    20.33737       0.022423  \n",
       "4105514     0.000000     0.00000       0.000000  \n",
       "4105515     0.000000     0.00000       0.000000  \n",
       "\n",
       "[4105516 rows x 348 columns]"
      ]
     },
     "execution_count": 104,
     "metadata": {},
     "output_type": "execute_result"
    }
   ],
   "source": [
    "data_0"
   ]
  },
  {
   "cell_type": "code",
   "execution_count": 105,
   "metadata": {},
   "outputs": [],
   "source": [
    "data_0 = data_0.replace([np.inf, -np.inf], np.nan).fillna(0)"
   ]
  },
  {
   "cell_type": "markdown",
   "metadata": {},
   "source": [
    "# Labeled part of data"
   ]
  },
  {
   "cell_type": "code",
   "execution_count": 106,
   "metadata": {},
   "outputs": [
    {
     "data": {
      "text/html": [
       "<div>\n",
       "<style scoped>\n",
       "    .dataframe tbody tr th:only-of-type {\n",
       "        vertical-align: middle;\n",
       "    }\n",
       "\n",
       "    .dataframe tbody tr th {\n",
       "        vertical-align: top;\n",
       "    }\n",
       "\n",
       "    .dataframe thead th {\n",
       "        text-align: right;\n",
       "    }\n",
       "</style>\n",
       "<table border=\"1\" class=\"dataframe\">\n",
       "  <thead>\n",
       "    <tr style=\"text-align: right;\">\n",
       "      <th></th>\n",
       "      <th>iGrID</th>\n",
       "    </tr>\n",
       "  </thead>\n",
       "  <tbody>\n",
       "    <tr>\n",
       "      <th>0</th>\n",
       "      <td>NaN</td>\n",
       "    </tr>\n",
       "    <tr>\n",
       "      <th>1</th>\n",
       "      <td>NaN</td>\n",
       "    </tr>\n",
       "    <tr>\n",
       "      <th>2</th>\n",
       "      <td>NaN</td>\n",
       "    </tr>\n",
       "    <tr>\n",
       "      <th>3</th>\n",
       "      <td>NaN</td>\n",
       "    </tr>\n",
       "    <tr>\n",
       "      <th>4</th>\n",
       "      <td>NaN</td>\n",
       "    </tr>\n",
       "  </tbody>\n",
       "</table>\n",
       "</div>"
      ],
      "text/plain": [
       "   iGrID\n",
       "0    NaN\n",
       "1    NaN\n",
       "2    NaN\n",
       "3    NaN\n",
       "4    NaN"
      ]
     },
     "execution_count": 106,
     "metadata": {},
     "output_type": "execute_result"
    }
   ],
   "source": [
    "GrID.head()"
   ]
  },
  {
   "cell_type": "code",
   "execution_count": 109,
   "metadata": {},
   "outputs": [
    {
     "data": {
      "text/plain": [
       "4105516"
      ]
     },
     "execution_count": 109,
     "metadata": {},
     "output_type": "execute_result"
    }
   ],
   "source": [
    "len(GrID)"
   ]
  },
  {
   "cell_type": "code",
   "execution_count": 124,
   "metadata": {},
   "outputs": [],
   "source": [
    "sdss_indx = GrID[-GrID.iGrID.isna()].index.to_list()"
   ]
  },
  {
   "cell_type": "code",
   "execution_count": 126,
   "metadata": {},
   "outputs": [
    {
     "data": {
      "text/plain": [
       "401148"
      ]
     },
     "execution_count": 126,
     "metadata": {},
     "output_type": "execute_result"
    }
   ],
   "source": [
    "len(sdss_indx)"
   ]
  },
  {
   "cell_type": "code",
   "execution_count": 136,
   "metadata": {},
   "outputs": [
    {
     "data": {
      "text/plain": [
       "0                1\n",
       "1                2\n",
       "2                3\n",
       "3                4\n",
       "4                5\n",
       "            ...   \n",
       "4105511    4240799\n",
       "4105512    4240800\n",
       "4105513    4240801\n",
       "4105514    4240802\n",
       "4105515    4240803\n",
       "Name: ind, Length: 4105516, dtype: int32"
      ]
     },
     "execution_count": 136,
     "metadata": {},
     "output_type": "execute_result"
    }
   ],
   "source": [
    "data_0.ind"
   ]
  },
  {
   "cell_type": "code",
   "execution_count": 176,
   "metadata": {},
   "outputs": [],
   "source": [
    "x = data_0[data_0.ind.isin(sdss_indx)]"
   ]
  },
  {
   "cell_type": "code",
   "execution_count": 177,
   "metadata": {},
   "outputs": [
    {
     "data": {
      "text/plain": [
       "387970"
      ]
     },
     "execution_count": 177,
     "metadata": {},
     "output_type": "execute_result"
    }
   ],
   "source": [
    "len(x)"
   ]
  },
  {
   "cell_type": "code",
   "execution_count": 178,
   "metadata": {},
   "outputs": [],
   "source": [
    "y_index = np.array(list(set(sdss_indx) & set(data_0.ind.to_list())))"
   ]
  },
  {
   "cell_type": "code",
   "execution_count": 182,
   "metadata": {},
   "outputs": [],
   "source": [
    "y = GrID.iloc[y_index]"
   ]
  },
  {
   "cell_type": "code",
   "execution_count": 183,
   "metadata": {},
   "outputs": [
    {
     "data": {
      "text/plain": [
       "387970"
      ]
     },
     "execution_count": 183,
     "metadata": {},
     "output_type": "execute_result"
    }
   ],
   "source": [
    "len(y)"
   ]
  },
  {
   "cell_type": "code",
   "execution_count": 184,
   "metadata": {},
   "outputs": [
    {
     "name": "stderr",
     "output_type": "stream",
     "text": [
      "/root/miniconda/lib/python3.6/site-packages/pandas/core/frame.py:3994: SettingWithCopyWarning: \n",
      "A value is trying to be set on a copy of a slice from a DataFrame\n",
      "\n",
      "See the caveats in the documentation: https://pandas.pydata.org/pandas-docs/stable/user_guide/indexing.html#returning-a-view-versus-a-copy\n",
      "  errors=errors,\n"
     ]
    }
   ],
   "source": [
    "x.drop('ind', axis = 1, inplace=True)"
   ]
  },
  {
   "cell_type": "code",
   "execution_count": 185,
   "metadata": {},
   "outputs": [
    {
     "data": {
      "text/html": [
       "<div>\n",
       "<style scoped>\n",
       "    .dataframe tbody tr th:only-of-type {\n",
       "        vertical-align: middle;\n",
       "    }\n",
       "\n",
       "    .dataframe tbody tr th {\n",
       "        vertical-align: top;\n",
       "    }\n",
       "\n",
       "    .dataframe thead th {\n",
       "        text-align: right;\n",
       "    }\n",
       "</style>\n",
       "<table border=\"1\" class=\"dataframe\">\n",
       "  <thead>\n",
       "    <tr style=\"text-align: right;\">\n",
       "      <th></th>\n",
       "      <th>ra</th>\n",
       "      <th>dec</th>\n",
       "      <th>z_sdss</th>\n",
       "      <th>zerr_sdss</th>\n",
       "      <th>plate_sdss</th>\n",
       "      <th>mjd_sdss</th>\n",
       "      <th>E_bv</th>\n",
       "      <th>A_u_sdss</th>\n",
       "      <th>A_g_sdss</th>\n",
       "      <th>A_r_sdss</th>\n",
       "      <th>...</th>\n",
       "      <th>expRadErr_g</th>\n",
       "      <th>expAB_g</th>\n",
       "      <th>expABErr_g</th>\n",
       "      <th>expPhi_g</th>\n",
       "      <th>expMag_g</th>\n",
       "      <th>expFlux_g</th>\n",
       "      <th>expFluxIvar_g</th>\n",
       "      <th>expMagErr_g</th>\n",
       "      <th>modelMag_g</th>\n",
       "      <th>modelMagErr_g</th>\n",
       "    </tr>\n",
       "  </thead>\n",
       "  <tbody>\n",
       "    <tr>\n",
       "      <th>57</th>\n",
       "      <td>0.004050</td>\n",
       "      <td>4.829782</td>\n",
       "      <td>1.617204</td>\n",
       "      <td>0.000486</td>\n",
       "      <td>4415</td>\n",
       "      <td>55831</td>\n",
       "      <td>0.032840</td>\n",
       "      <td>0.139207</td>\n",
       "      <td>0.108469</td>\n",
       "      <td>0.075039</td>\n",
       "      <td>...</td>\n",
       "      <td>0.092568</td>\n",
       "      <td>0.243971</td>\n",
       "      <td>27.751700</td>\n",
       "      <td>43.17112</td>\n",
       "      <td>19.94553</td>\n",
       "      <td>10.513670</td>\n",
       "      <td>22.176340</td>\n",
       "      <td>0.021926</td>\n",
       "      <td>19.95472</td>\n",
       "      <td>0.018201</td>\n",
       "    </tr>\n",
       "    <tr>\n",
       "      <th>68</th>\n",
       "      <td>0.004738</td>\n",
       "      <td>0.708959</td>\n",
       "      <td>0.652078</td>\n",
       "      <td>0.000147</td>\n",
       "      <td>4216</td>\n",
       "      <td>55477</td>\n",
       "      <td>0.027519</td>\n",
       "      <td>0.116653</td>\n",
       "      <td>0.090895</td>\n",
       "      <td>0.062881</td>\n",
       "      <td>...</td>\n",
       "      <td>0.777648</td>\n",
       "      <td>0.462571</td>\n",
       "      <td>0.174374</td>\n",
       "      <td>73.53383</td>\n",
       "      <td>21.10283</td>\n",
       "      <td>3.619102</td>\n",
       "      <td>8.989360</td>\n",
       "      <td>0.099936</td>\n",
       "      <td>20.32272</td>\n",
       "      <td>0.100804</td>\n",
       "    </tr>\n",
       "    <tr>\n",
       "      <th>86</th>\n",
       "      <td>0.005863</td>\n",
       "      <td>20.444539</td>\n",
       "      <td>0.317029</td>\n",
       "      <td>0.000055</td>\n",
       "      <td>7595</td>\n",
       "      <td>56957</td>\n",
       "      <td>0.102180</td>\n",
       "      <td>0.433139</td>\n",
       "      <td>0.337499</td>\n",
       "      <td>0.233480</td>\n",
       "      <td>...</td>\n",
       "      <td>0.994860</td>\n",
       "      <td>0.750105</td>\n",
       "      <td>2.570303</td>\n",
       "      <td>101.91280</td>\n",
       "      <td>21.57124</td>\n",
       "      <td>2.348910</td>\n",
       "      <td>3.605308</td>\n",
       "      <td>0.242725</td>\n",
       "      <td>21.49500</td>\n",
       "      <td>0.091674</td>\n",
       "    </tr>\n",
       "    <tr>\n",
       "      <th>93</th>\n",
       "      <td>0.006480</td>\n",
       "      <td>-0.559076</td>\n",
       "      <td>2.219141</td>\n",
       "      <td>0.000556</td>\n",
       "      <td>7850</td>\n",
       "      <td>56956</td>\n",
       "      <td>0.041426</td>\n",
       "      <td>0.175605</td>\n",
       "      <td>0.136831</td>\n",
       "      <td>0.094659</td>\n",
       "      <td>...</td>\n",
       "      <td>0.000000</td>\n",
       "      <td>0.000000</td>\n",
       "      <td>0.000000</td>\n",
       "      <td>0.00000</td>\n",
       "      <td>0.00000</td>\n",
       "      <td>0.000000</td>\n",
       "      <td>0.000000</td>\n",
       "      <td>0.000000</td>\n",
       "      <td>0.00000</td>\n",
       "      <td>0.000000</td>\n",
       "    </tr>\n",
       "    <tr>\n",
       "      <th>95</th>\n",
       "      <td>0.006523</td>\n",
       "      <td>20.503197</td>\n",
       "      <td>2.083215</td>\n",
       "      <td>0.000531</td>\n",
       "      <td>7596</td>\n",
       "      <td>56945</td>\n",
       "      <td>0.103813</td>\n",
       "      <td>0.440065</td>\n",
       "      <td>0.342895</td>\n",
       "      <td>0.237213</td>\n",
       "      <td>...</td>\n",
       "      <td>0.000000</td>\n",
       "      <td>0.136329</td>\n",
       "      <td>108.219300</td>\n",
       "      <td>70.81651</td>\n",
       "      <td>21.35422</td>\n",
       "      <td>2.870025</td>\n",
       "      <td>14.954710</td>\n",
       "      <td>0.097633</td>\n",
       "      <td>21.28773</td>\n",
       "      <td>0.065508</td>\n",
       "    </tr>\n",
       "  </tbody>\n",
       "</table>\n",
       "<p>5 rows × 347 columns</p>\n",
       "</div>"
      ],
      "text/plain": [
       "          ra        dec    z_sdss  zerr_sdss  plate_sdss  mjd_sdss      E_bv  \\\n",
       "57  0.004050   4.829782  1.617204   0.000486        4415     55831  0.032840   \n",
       "68  0.004738   0.708959  0.652078   0.000147        4216     55477  0.027519   \n",
       "86  0.005863  20.444539  0.317029   0.000055        7595     56957  0.102180   \n",
       "93  0.006480  -0.559076  2.219141   0.000556        7850     56956  0.041426   \n",
       "95  0.006523  20.503197  2.083215   0.000531        7596     56945  0.103813   \n",
       "\n",
       "    A_u_sdss  A_g_sdss  A_r_sdss  ...  expRadErr_g   expAB_g  expABErr_g  \\\n",
       "57  0.139207  0.108469  0.075039  ...     0.092568  0.243971   27.751700   \n",
       "68  0.116653  0.090895  0.062881  ...     0.777648  0.462571    0.174374   \n",
       "86  0.433139  0.337499  0.233480  ...     0.994860  0.750105    2.570303   \n",
       "93  0.175605  0.136831  0.094659  ...     0.000000  0.000000    0.000000   \n",
       "95  0.440065  0.342895  0.237213  ...     0.000000  0.136329  108.219300   \n",
       "\n",
       "     expPhi_g  expMag_g  expFlux_g  expFluxIvar_g  expMagErr_g  modelMag_g  \\\n",
       "57   43.17112  19.94553  10.513670      22.176340     0.021926    19.95472   \n",
       "68   73.53383  21.10283   3.619102       8.989360     0.099936    20.32272   \n",
       "86  101.91280  21.57124   2.348910       3.605308     0.242725    21.49500   \n",
       "93    0.00000   0.00000   0.000000       0.000000     0.000000     0.00000   \n",
       "95   70.81651  21.35422   2.870025      14.954710     0.097633    21.28773   \n",
       "\n",
       "    modelMagErr_g  \n",
       "57       0.018201  \n",
       "68       0.100804  \n",
       "86       0.091674  \n",
       "93       0.000000  \n",
       "95       0.065508  \n",
       "\n",
       "[5 rows x 347 columns]"
      ]
     },
     "execution_count": 185,
     "metadata": {},
     "output_type": "execute_result"
    }
   ],
   "source": [
    "x.head()"
   ]
  },
  {
   "cell_type": "markdown",
   "metadata": {},
   "source": [
    "# VAE"
   ]
  },
  {
   "cell_type": "code",
   "execution_count": 186,
   "metadata": {},
   "outputs": [
    {
     "data": {
      "text/plain": [
       "array([[-2.83853306e+00, -8.28871186e-01,  1.36198996e+00, ...,\n",
       "         1.22802143e-03,  2.85962906e-01,  1.33706121e-03],\n",
       "       [-2.83852219e+00, -1.01478155e+00,  1.28368976e-01, ...,\n",
       "         4.03269860e-03,  2.98340566e-01,  4.30784449e-03],\n",
       "       [-2.83850443e+00, -1.24413687e-01, -2.99889587e-01, ...,\n",
       "         9.16636623e-03,  3.37770143e-01,  3.97949667e-03],\n",
       "       ...,\n",
       "       [ 2.72284474e+00, -4.66005418e-01, -4.39045042e-01, ...,\n",
       "         9.23221824e-04,  2.29390269e-01,  1.16325379e-03],\n",
       "       [ 2.72285818e+00, -1.62646805e+00, -7.05114411e-01, ...,\n",
       "         4.39717568e-04, -3.85213063e-01,  6.82467712e-04],\n",
       "       [ 2.72286539e+00, -2.53636901e+00, -7.05114411e-01, ...,\n",
       "         4.39717568e-04, -3.85213063e-01,  6.82467712e-04]])"
      ]
     },
     "metadata": {},
     "output_type": "display_data"
    }
   ],
   "source": [
    "from sklearn.preprocessing import StandardScaler\n",
    "\n",
    "scaler = StandardScaler()\n",
    "x = scaler.fit_transform(x)\n",
    "display(x)"
   ]
  },
  {
   "cell_type": "code",
   "execution_count": 187,
   "metadata": {},
   "outputs": [
    {
     "data": {
      "text/plain": [
       "(387970, 347)"
      ]
     },
     "execution_count": 187,
     "metadata": {},
     "output_type": "execute_result"
    }
   ],
   "source": [
    "x.shape"
   ]
  },
  {
   "cell_type": "code",
   "execution_count": 204,
   "metadata": {},
   "outputs": [],
   "source": [
    "representation_size = 86\n",
    "input_size = 347\n",
    "n_samples = 387970\n",
    "batch_size = 256\n",
    "gen_hidden_size = 200\n",
    "enc_hidden_size = 200\n",
    "disc_hidden_size = 200"
   ]
  },
  {
   "cell_type": "markdown",
   "metadata": {},
   "source": [
    "https://chrisorm.github.io/AVB-pyt.html"
   ]
  },
  {
   "cell_type": "code",
   "execution_count": 224,
   "metadata": {},
   "outputs": [],
   "source": [
    "class VAE(nn.Module):\n",
    "    def __init__(self):\n",
    "        super(VAE, self).__init__()\n",
    "        self.gen_l1 = torch.nn.Linear(representation_size, gen_hidden_size)\n",
    "        self.gen_l2 = torch.nn.Linear(gen_hidden_size, input_size)\n",
    "        \n",
    "        self.enc_l1 = torch.nn.Linear(input_size+representation_size, \n",
    "                                      enc_hidden_size)\n",
    "        self.enc_l2 = torch.nn.Linear(enc_hidden_size, representation_size)\n",
    "        \n",
    "        self.disc_l1 = torch.nn.Linear(input_size+representation_size, \n",
    "                                       disc_hidden_size)\n",
    "        self.disc_l2 = torch.nn.Linear(disc_hidden_size, 1)\n",
    "        \n",
    "        self.relu = torch.nn.ReLU()\n",
    "        self.sigmoid = torch.nn.Sigmoid()\n",
    "        \n",
    "    def sample_prior(self, s):\n",
    "        if self.training:\n",
    "            m = torch.zeros((s.data.shape[0], representation_size))\n",
    "            std = torch.ones((s.data.shape[0], representation_size))\n",
    "            d = Variable(torch.normal(m,std))\n",
    "        else:\n",
    "            d = Variable(torch.zeros((s.data.shape[0], representation_size)))\n",
    "        \n",
    "        return d\n",
    "    \n",
    "    def discriminator(self, x,z):\n",
    "        i = torch.cat((x, z), dim=1)\n",
    "        h = self.relu(self.disc_l1(i))\n",
    "        return self.disc_l2(h)\n",
    "    \n",
    "    def sample_posterior(self, x):\n",
    "        i = torch.cat((x, self.sample_prior(x)), dim=1)\n",
    "        h = self.relu(self.enc_l1(i))\n",
    "        return self.enc_l2(h)\n",
    "    \n",
    "    def decoder(self, z):\n",
    "        i = self.relu(self.gen_l1(z))\n",
    "        h = self.sigmoid(self.gen_l2(i))\n",
    "        return h\n",
    "    \n",
    "    def forward(self, x):\n",
    "        z_p = self.sample_prior(x)\n",
    "        \n",
    "        z_q = self.sample_posterior(x)\n",
    "        log_d_prior = self.discriminator(x, z_p)\n",
    "        log_d_posterior = self.discriminator(x, z_q)\n",
    "        disc_loss = torch.mean(\n",
    "            torch.nn.functional.binary_cross_entropy_with_logits(\n",
    "            log_d_posterior, torch.ones_like(log_d_posterior)\n",
    "        )\n",
    "        + torch.nn.functional.binary_cross_entropy_with_logits(\n",
    "            log_d_prior, torch.zeros_like(log_d_prior))\n",
    "        )\n",
    "        \n",
    "        x_recon = self.decoder(z_q)\n",
    "        recon_liklihood = -torch.nn.functional.binary_cross_entropy(\n",
    "                                                x_recon, x)*x.data.shape[0]\n",
    "        \n",
    "        gen_loss = torch.mean(log_d_posterior)-torch.mean(recon_liklihood)\n",
    "        \n",
    "        return disc_loss, gen_loss"
   ]
  },
  {
   "cell_type": "code",
   "execution_count": 225,
   "metadata": {},
   "outputs": [],
   "source": [
    "model = VAE()"
   ]
  },
  {
   "cell_type": "code",
   "execution_count": 226,
   "metadata": {},
   "outputs": [],
   "source": [
    "disc_params = []\n",
    "gen_params = []\n",
    "for name, param in model.named_parameters():\n",
    "    \n",
    "    if 'disc' in name:\n",
    "        \n",
    "        disc_params.append(param)\n",
    "    else:\n",
    "        gen_params.append(param)"
   ]
  },
  {
   "cell_type": "code",
   "execution_count": 227,
   "metadata": {},
   "outputs": [],
   "source": [
    "disc_optimizer = torch.optim.Adam(disc_params, lr=1e-3)\n",
    "gen_optimizer = torch.optim.Adam(gen_params, lr=1e-3)"
   ]
  },
  {
   "cell_type": "code",
   "execution_count": 228,
   "metadata": {},
   "outputs": [],
   "source": [
    "def train(epoch, batches_per_epoch = 256, log_interval=500):\n",
    "    model.train()\n",
    "    \n",
    "    ind = np.arange(x.shape[0])\n",
    "    for i in range(batches_per_epoch):\n",
    "        data = torch.from_numpy(x[np.random.choice(ind, size=batch_size)])\n",
    "        data = data.float()\n",
    "        data = Variable(data, requires_grad=False)\n",
    "        \n",
    "        \n",
    "        discrim_loss, gen_loss= model(data)\n",
    "        \n",
    "        gen_optimizer.zero_grad()\n",
    "        gen_loss.backward(retain_graph=True)\n",
    "        gen_optimizer.step()\n",
    "        \n",
    "        disc_optimizer.zero_grad()\n",
    "        discrim_loss.backward(retain_graph=True)\n",
    "        disc_optimizer.step()\n",
    "        if (i % log_interval == 0) and (epoch % 1 ==0):\n",
    "            #Print progress\n",
    "            print('Train Epoch: {} [{}/{}]\\tLoss: {:.6f}\\tLoss: {:.6f}'.format(\n",
    "                epoch, i * batch_size, batch_size*batches_per_epoch,\n",
    "                discrim_loss.data.item() / len(data), gen_loss.data.item() / len(data)))\n",
    "\n",
    "    print('====> Epoch: {} done!'.format(\n",
    "          epoch))"
   ]
  },
  {
   "cell_type": "code",
   "execution_count": 229,
   "metadata": {},
   "outputs": [
    {
     "name": "stdout",
     "output_type": "stream",
     "text": [
      "Train Epoch: 1 [0/65536]\tLoss: 0.005462\tLoss: 0.693658\n",
      "====> Epoch: 1 done!\n",
      "Train Epoch: 2 [0/65536]\tLoss: 0.000008\tLoss: -7.188106\n"
     ]
    },
    {
     "ename": "KeyboardInterrupt",
     "evalue": "",
     "output_type": "error",
     "traceback": [
      "\u001b[0;31m---------------------------------------------------------------------------\u001b[0m",
      "\u001b[0;31mKeyboardInterrupt\u001b[0m                         Traceback (most recent call last)",
      "\u001b[0;32m<timed exec>\u001b[0m in \u001b[0;36m<module>\u001b[0;34m\u001b[0m\n",
      "\u001b[0;32m<ipython-input-228-55210c32f5e3>\u001b[0m in \u001b[0;36mtrain\u001b[0;34m(epoch, batches_per_epoch, log_interval)\u001b[0m\n\u001b[1;32m     16\u001b[0m \u001b[0;34m\u001b[0m\u001b[0m\n\u001b[1;32m     17\u001b[0m         \u001b[0mdisc_optimizer\u001b[0m\u001b[0;34m.\u001b[0m\u001b[0mzero_grad\u001b[0m\u001b[0;34m(\u001b[0m\u001b[0;34m)\u001b[0m\u001b[0;34m\u001b[0m\u001b[0;34m\u001b[0m\u001b[0m\n\u001b[0;32m---> 18\u001b[0;31m         \u001b[0mdiscrim_loss\u001b[0m\u001b[0;34m.\u001b[0m\u001b[0mbackward\u001b[0m\u001b[0;34m(\u001b[0m\u001b[0mretain_graph\u001b[0m\u001b[0;34m=\u001b[0m\u001b[0;32mTrue\u001b[0m\u001b[0;34m)\u001b[0m\u001b[0;34m\u001b[0m\u001b[0;34m\u001b[0m\u001b[0m\n\u001b[0m\u001b[1;32m     19\u001b[0m         \u001b[0mdisc_optimizer\u001b[0m\u001b[0;34m.\u001b[0m\u001b[0mstep\u001b[0m\u001b[0;34m(\u001b[0m\u001b[0;34m)\u001b[0m\u001b[0;34m\u001b[0m\u001b[0;34m\u001b[0m\u001b[0m\n\u001b[1;32m     20\u001b[0m         \u001b[0;32mif\u001b[0m \u001b[0;34m(\u001b[0m\u001b[0mi\u001b[0m \u001b[0;34m%\u001b[0m \u001b[0mlog_interval\u001b[0m \u001b[0;34m==\u001b[0m \u001b[0;36m0\u001b[0m\u001b[0;34m)\u001b[0m \u001b[0;32mand\u001b[0m \u001b[0;34m(\u001b[0m\u001b[0mepoch\u001b[0m \u001b[0;34m%\u001b[0m \u001b[0;36m1\u001b[0m \u001b[0;34m==\u001b[0m\u001b[0;36m0\u001b[0m\u001b[0;34m)\u001b[0m\u001b[0;34m:\u001b[0m\u001b[0;34m\u001b[0m\u001b[0;34m\u001b[0m\u001b[0m\n",
      "\u001b[0;32m~/miniconda/lib/python3.6/site-packages/torch/tensor.py\u001b[0m in \u001b[0;36mbackward\u001b[0;34m(self, gradient, retain_graph, create_graph)\u001b[0m\n\u001b[1;32m    193\u001b[0m                 \u001b[0mproducts\u001b[0m\u001b[0;34m.\u001b[0m \u001b[0mDefaults\u001b[0m \u001b[0mto\u001b[0m\u001b[0;31m \u001b[0m\u001b[0;31m`\u001b[0m\u001b[0;31m`\u001b[0m\u001b[0;32mFalse\u001b[0m\u001b[0;31m`\u001b[0m\u001b[0;31m`\u001b[0m\u001b[0;34m.\u001b[0m\u001b[0;34m\u001b[0m\u001b[0;34m\u001b[0m\u001b[0m\n\u001b[1;32m    194\u001b[0m         \"\"\"\n\u001b[0;32m--> 195\u001b[0;31m         \u001b[0mtorch\u001b[0m\u001b[0;34m.\u001b[0m\u001b[0mautograd\u001b[0m\u001b[0;34m.\u001b[0m\u001b[0mbackward\u001b[0m\u001b[0;34m(\u001b[0m\u001b[0mself\u001b[0m\u001b[0;34m,\u001b[0m \u001b[0mgradient\u001b[0m\u001b[0;34m,\u001b[0m \u001b[0mretain_graph\u001b[0m\u001b[0;34m,\u001b[0m \u001b[0mcreate_graph\u001b[0m\u001b[0;34m)\u001b[0m\u001b[0;34m\u001b[0m\u001b[0;34m\u001b[0m\u001b[0m\n\u001b[0m\u001b[1;32m    196\u001b[0m \u001b[0;34m\u001b[0m\u001b[0m\n\u001b[1;32m    197\u001b[0m     \u001b[0;32mdef\u001b[0m \u001b[0mregister_hook\u001b[0m\u001b[0;34m(\u001b[0m\u001b[0mself\u001b[0m\u001b[0;34m,\u001b[0m \u001b[0mhook\u001b[0m\u001b[0;34m)\u001b[0m\u001b[0;34m:\u001b[0m\u001b[0;34m\u001b[0m\u001b[0;34m\u001b[0m\u001b[0m\n",
      "\u001b[0;32m~/miniconda/lib/python3.6/site-packages/torch/autograd/__init__.py\u001b[0m in \u001b[0;36mbackward\u001b[0;34m(tensors, grad_tensors, retain_graph, create_graph, grad_variables)\u001b[0m\n\u001b[1;32m     97\u001b[0m     Variable._execution_engine.run_backward(\n\u001b[1;32m     98\u001b[0m         \u001b[0mtensors\u001b[0m\u001b[0;34m,\u001b[0m \u001b[0mgrad_tensors\u001b[0m\u001b[0;34m,\u001b[0m \u001b[0mretain_graph\u001b[0m\u001b[0;34m,\u001b[0m \u001b[0mcreate_graph\u001b[0m\u001b[0;34m,\u001b[0m\u001b[0;34m\u001b[0m\u001b[0;34m\u001b[0m\u001b[0m\n\u001b[0;32m---> 99\u001b[0;31m         allow_unreachable=True)  # allow_unreachable flag\n\u001b[0m\u001b[1;32m    100\u001b[0m \u001b[0;34m\u001b[0m\u001b[0m\n\u001b[1;32m    101\u001b[0m \u001b[0;34m\u001b[0m\u001b[0m\n",
      "\u001b[0;31mKeyboardInterrupt\u001b[0m: "
     ]
    }
   ],
   "source": [
    "%%time\n",
    "for epoch in range(1, 15):\n",
    "    train(epoch)"
   ]
  },
  {
   "cell_type": "code",
   "execution_count": 230,
   "metadata": {},
   "outputs": [],
   "source": [
    "#data = Variable(torch.from_numpy(x), requires_grad=False)\n",
    "\n",
    "#model.train()\n",
    "#zs = model.sample_posterior(data).data.numpy()"
   ]
  },
  {
   "cell_type": "code",
   "execution_count": null,
   "metadata": {},
   "outputs": [],
   "source": [
    "import matplotlib.pyplot as plt\n",
    "%matplotlib inline\n",
    "\n",
    "plt.scatter(zs[:,0], zs[:, 1], c=y)"
   ]
  },
  {
   "cell_type": "markdown",
   "metadata": {},
   "source": [
    "-----"
   ]
  },
  {
   "cell_type": "code",
   "execution_count": 235,
   "metadata": {},
   "outputs": [],
   "source": [
    "from sklearn.cluster import *\n",
    "from sklearn.metrics import *\n",
    "from sklearn.preprocessing import LabelEncoder, MinMaxScaler\n",
    "import astropy\n",
    "from astropy.coordinates import solar_system_ephemeris, EarthLocation\n",
    "from astropy import units as u\n",
    "from astropy.coordinates import SkyCoord\n",
    "from astropy import constants as const\n",
    "import hdbscan\n",
    "from astropy.io import fits\n",
    "\n",
    "import torch\n",
    "import torch.nn as nn\n",
    "import torch.nn.functional as F\n",
    "import torch.optim as optim\n",
    "# from torchvision import datasets, transforms\n",
    "from torch.autograd import Variable\n",
    "# from torchvision.utils import save_image"
   ]
  },
  {
   "cell_type": "code",
   "execution_count": 236,
   "metadata": {},
   "outputs": [],
   "source": [
    "class VAE(nn.Module):\n",
    "    def __init__(self, x_dim, h_dim1, h_dim2, z_dim):\n",
    "        super(VAE, self).__init__()\n",
    "        \n",
    "        self.fc1 = nn.Linear(x_dim, h_dim1)\n",
    "        self.fc2 = nn.Linear(h_dim1, h_dim2)\n",
    "        self.fc31 = nn.Linear(h_dim2, z_dim)\n",
    "        self.fc32 = nn.Linear(h_dim2, z_dim)\n",
    "\n",
    "        self.fc4 = nn.Linear(z_dim, h_dim2)\n",
    "        self.fc5 = nn.Linear(h_dim2, h_dim1)\n",
    "        self.fc6 = nn.Linear(h_dim1, x_dim)\n",
    "        \n",
    "    def encoder(self, x):\n",
    "        h = F.relu(self.fc1(x))\n",
    "        h = F.relu(self.fc2(h))\n",
    "        return self.fc31(h), self.fc32(h)\n",
    "    \n",
    "    def sampling(self, mu, log_var):\n",
    "        std = torch.exp(0.5*log_var)\n",
    "        eps = torch.randn_like(std)\n",
    "        return eps.mul(std).add_(mu)\n",
    "        \n",
    "    def decoder(self, z):\n",
    "        h = F.relu(self.fc4(z))\n",
    "        h = F.relu(self.fc5(h))\n",
    "        return torch.sigmoid(self.fc6(h)) \n",
    "    \n",
    "    def forward(self, x):\n",
    "        mu, log_var = self.encoder(x.view(-1, x.shape[1]))\n",
    "        z = self.sampling(mu, log_var)\n",
    "        return self.decoder(z), mu, log_var\n"
   ]
  },
  {
   "cell_type": "code",
   "execution_count": 262,
   "metadata": {},
   "outputs": [],
   "source": [
    "vae = VAE(x_dim=x.shape[1], h_dim1= int(x.shape[1]/2), h_dim2=int(x.shape[1]/4), z_dim=60)\n",
    "#if torch.cuda.is_available():\n",
    "#    vae.cuda()\n",
    "\n",
    "optimizer = optim.Adam(vae.parameters())\n",
    "train_loader = torch.utils.data.DataLoader(dataset=x, batch_size=int(len(x)/1000), shuffle=True)#, num_workers=20)\n",
    "\n",
    "def loss_function(recon_x, x, mu, log_var):\n",
    "    criterion = nn.MSELoss().cuda()\n",
    "    BCE = criterion(recon_x, x.view(-1, x.shape[1]))\n",
    "    KLD = -0.5 * torch.sum(1 + log_var - mu.pow(2) - log_var.exp())\n",
    "    return BCE + KLD\n",
    "\n",
    "def train(epoch):\n",
    "    vae.train()\n",
    "    train_loss = 0\n",
    "    for batch_idx in range(400):\n",
    "        #data = torch.tensor(x.sample(n=1000).astype(np.float32).values)\n",
    "        data = torch.tensor(x[np.random.choice(range(x.shape[0]), 1000)].astype(np.float32))\n",
    "        optimizer.zero_grad()\n",
    "        \n",
    "        recon_batch, mu, log_var = vae(data)\n",
    "        loss = loss_function(recon_batch, data, mu, log_var)\n",
    "        \n",
    "        loss.backward()\n",
    "        train_loss += loss.item()\n",
    "        optimizer.step()\n",
    "        \n",
    "        if batch_idx % 100 == 0:\n",
    "            print('Train Epoch: {} [{}/{} ({:.0f}%)]\\tLoss: {:.6f}'.format(\n",
    "                epoch, batch_idx * len(data), len(train_loader.dataset),\n",
    "                100. * batch_idx / len(train_loader), loss.item() / len(data)))\n",
    "    print('====> Epoch: {} Average loss: {:.4f}'.format(epoch, train_loss / len(train_loader.dataset)))"
   ]
  },
  {
   "cell_type": "code",
   "execution_count": 248,
   "metadata": {},
   "outputs": [
    {
     "name": "stdout",
     "output_type": "stream",
     "text": [
      "Train Epoch: 1 [0/387970 (0%)]\tLoss: 0.009107\n",
      "Train Epoch: 1 [100000/387970 (10%)]\tLoss: 0.001703\n",
      "Train Epoch: 1 [200000/387970 (20%)]\tLoss: 0.000804\n",
      "Train Epoch: 1 [300000/387970 (30%)]\tLoss: 0.000737\n",
      "====> Epoch: 1 Average loss: 688034034796426624.0000\n",
      "Train Epoch: 2 [0/387970 (0%)]\tLoss: 0.001185\n",
      "Train Epoch: 2 [100000/387970 (10%)]\tLoss: 0.000730\n",
      "Train Epoch: 2 [200000/387970 (20%)]\tLoss: 0.000709\n",
      "Train Epoch: 2 [300000/387970 (30%)]\tLoss: 0.000932\n",
      "====> Epoch: 2 Average loss: 22393618326952329216.0000\n",
      "Train Epoch: 3 [0/387970 (0%)]\tLoss: 0.000616\n",
      "Train Epoch: 3 [100000/387970 (10%)]\tLoss: 0.002079\n",
      "Train Epoch: 3 [200000/387970 (20%)]\tLoss: 0.003697\n",
      "Train Epoch: 3 [300000/387970 (30%)]\tLoss: 0.000985\n",
      "====> Epoch: 3 Average loss: 5299271583465879552.0000\n",
      "Train Epoch: 4 [0/387970 (0%)]\tLoss: 0.000686\n",
      "Train Epoch: 4 [100000/387970 (10%)]\tLoss: 0.000643\n",
      "Train Epoch: 4 [200000/387970 (20%)]\tLoss: 0.000987\n",
      "Train Epoch: 4 [300000/387970 (30%)]\tLoss: 0.000692\n",
      "====> Epoch: 4 Average loss: 88860471718148.1562\n",
      "Train Epoch: 5 [0/387970 (0%)]\tLoss: 0.000873\n",
      "Train Epoch: 5 [100000/387970 (10%)]\tLoss: 27.818797\n",
      "Train Epoch: 5 [200000/387970 (20%)]\tLoss: 0.000603\n",
      "Train Epoch: 5 [300000/387970 (30%)]\tLoss: 0.000840\n",
      "Train Epoch: 8 [100000/387970 (10%)]\tLoss: 0.000652\n",
      "Train Epoch: 8 [200000/387970 (20%)]\tLoss: 0.000708\n",
      "Train Epoch: 8 [300000/387970 (30%)]\tLoss: 0.000684\n",
      "====> Epoch: 8 Average loss: 0.0012\n",
      "Train Epoch: 9 [0/387970 (0%)]\tLoss: 0.000586\n",
      "Train Epoch: 9 [100000/387970 (10%)]\tLoss: 0.000763\n",
      "Train Epoch: 9 [200000/387970 (20%)]\tLoss: 0.000708\n",
      "Train Epoch: 9 [300000/387970 (30%)]\tLoss: 0.000645\n",
      "====> Epoch: 9 Average loss: 0.0012\n",
      "Train Epoch: 10 [0/387970 (0%)]\tLoss: 0.000888\n",
      "Train Epoch: 10 [100000/387970 (10%)]\tLoss: 0.000558\n",
      "Train Epoch: 10 [200000/387970 (20%)]\tLoss: 0.000839\n",
      "Train Epoch: 10 [300000/387970 (30%)]\tLoss: 0.000733\n",
      "====> Epoch: 10 Average loss: 0.0012\n",
      "Train Epoch: 11 [0/387970 (0%)]\tLoss: 0.000770\n",
      "Train Epoch: 11 [100000/387970 (10%)]\tLoss: 0.000668\n",
      "Train Epoch: 11 [200000/387970 (20%)]\tLoss: 0.000582\n",
      "Train Epoch: 11 [300000/387970 (30%)]\tLoss: 0.000695\n",
      "====> Epoch: 11 Average loss: 0.0013\n",
      "Train Epoch: 12 [0/387970 (0%)]\tLoss: 0.000630\n",
      "Train Epoch: 12 [100000/387970 (10%)]\tLoss: 0.000569\n",
      "Train Epoch: 12 [200000/387970 (20%)]\tLoss: 0.000688\n",
      "Train Epoch: 12 [300000/387970 (30%)]\tLoss: 0.000990\n",
      "====> Epoch: 12 Average loss: 0.0012\n",
      "Train Epoch: 13 [0/387970 (0%)]\tLoss: 0.000611\n",
      "Train Epoch: 13 [100000/387970 (10%)]\tLoss: 0.013471\n",
      "Train Epoch: 13 [200000/387970 (20%)]\tLoss: 0.000724\n",
      "Train Epoch: 13 [300000/387970 (30%)]\tLoss: 0.000903\n",
      "====> Epoch: 13 Average loss: 0.0012\n",
      "Train Epoch: 14 [0/387970 (0%)]\tLoss: 0.000662\n",
      "Train Epoch: 14 [100000/387970 (10%)]\tLoss: 0.001073\n",
      "Train Epoch: 14 [200000/387970 (20%)]\tLoss: 0.000556\n",
      "Train Epoch: 14 [300000/387970 (30%)]\tLoss: 0.000668\n",
      "====> Epoch: 14 Average loss: 0.0011\n",
      "CPU times: user 30min 23s, sys: 5min 7s, total: 35min 30s\n",
      "Wall time: 10min 47s\n"
     ]
    }
   ],
   "source": [
    "%%time\n",
    "for epoch in range(1, 15):\n",
    "    train(epoch)"
   ]
  },
  {
   "cell_type": "code",
   "execution_count": 249,
   "metadata": {},
   "outputs": [],
   "source": [
    "mu, log_var = vae.encoder(torch.tensor(x.astype(np.float32)))\n",
    "embed = vae.sampling(mu, log_var).detach().numpy()"
   ]
  },
  {
   "cell_type": "code",
   "execution_count": 261,
   "metadata": {},
   "outputs": [
    {
     "data": {
      "text/plain": [
       "(387970, 347)"
      ]
     },
     "execution_count": 261,
     "metadata": {},
     "output_type": "execute_result"
    }
   ],
   "source": [
    "x.shape"
   ]
  },
  {
   "cell_type": "code",
   "execution_count": 260,
   "metadata": {},
   "outputs": [
    {
     "data": {
      "text/plain": [
       "(387970, 1)"
      ]
     },
     "execution_count": 260,
     "metadata": {},
     "output_type": "execute_result"
    }
   ],
   "source": [
    "embed.shape "
   ]
  },
  {
   "cell_type": "code",
   "execution_count": 250,
   "metadata": {},
   "outputs": [],
   "source": [
    "hdbScan = hdbscan.hdbscan_.HDBSCAN(min_cluster_size=2, min_samples=1, \n",
    "                                   allow_single_cluster=True, core_dist_n_jobs=20).fit(embed)"
   ]
  },
  {
   "cell_type": "code",
   "execution_count": 255,
   "metadata": {},
   "outputs": [],
   "source": [
    "Y = np.array(y).reshape(-1)"
   ]
  },
  {
   "cell_type": "code",
   "execution_count": 256,
   "metadata": {},
   "outputs": [
    {
     "data": {
      "text/plain": [
       "(0.857879612095014, 0.9070882336331203, 0.881797936306425)"
      ]
     },
     "execution_count": 256,
     "metadata": {},
     "output_type": "execute_result"
    }
   ],
   "source": [
    "m2 = homogeneity_completeness_v_measure(Y,hdbScan.labels_) \n",
    "m2"
   ]
  },
  {
   "cell_type": "code",
   "execution_count": 258,
   "metadata": {},
   "outputs": [
    {
     "data": {
      "text/plain": [
       "127047"
      ]
     },
     "execution_count": 258,
     "metadata": {},
     "output_type": "execute_result"
    }
   ],
   "source": [
    "len(np.unique(hdbScan.labels_))"
   ]
  },
  {
   "cell_type": "code",
   "execution_count": 259,
   "metadata": {},
   "outputs": [
    {
     "data": {
      "text/plain": [
       "223739"
      ]
     },
     "execution_count": 259,
     "metadata": {},
     "output_type": "execute_result"
    }
   ],
   "source": [
    "len(np.unique(Y))"
   ]
  },
  {
   "cell_type": "code",
   "execution_count": null,
   "metadata": {},
   "outputs": [],
   "source": []
  },
  {
   "cell_type": "code",
   "execution_count": 264,
   "metadata": {},
   "outputs": [
    {
     "name": "stdout",
     "output_type": "stream",
     "text": [
      "Train Epoch: 1 [0/387970 (0%)]\tLoss: 0.498321\n",
      "Train Epoch: 1 [100000/387970 (10%)]\tLoss: 0.005720\n",
      "Train Epoch: 1 [200000/387970 (20%)]\tLoss: 0.043469\n",
      "Train Epoch: 1 [300000/387970 (30%)]\tLoss: 0.002258\n",
      "====> Epoch: 1 Average loss: 0.1224\n",
      "Train Epoch: 2 [0/387970 (0%)]\tLoss: 0.001595\n",
      "Train Epoch: 2 [100000/387970 (10%)]\tLoss: 0.001485\n",
      "Train Epoch: 2 [200000/387970 (20%)]\tLoss: 0.001897\n",
      "Train Epoch: 2 [300000/387970 (30%)]\tLoss: 0.006117\n",
      "====> Epoch: 2 Average loss: 0.2841\n",
      "Train Epoch: 3 [0/387970 (0%)]\tLoss: 0.000856\n",
      "Train Epoch: 3 [100000/387970 (10%)]\tLoss: 0.001016\n",
      "Train Epoch: 3 [200000/387970 (20%)]\tLoss: 0.000830\n",
      "Train Epoch: 3 [300000/387970 (30%)]\tLoss: 0.000827\n",
      "====> Epoch: 3 Average loss: 0.0013\n",
      "Train Epoch: 4 [0/387970 (0%)]\tLoss: 0.001142\n",
      "Train Epoch: 4 [100000/387970 (10%)]\tLoss: 0.000765\n",
      "Train Epoch: 4 [200000/387970 (20%)]\tLoss: 0.000736\n",
      "Train Epoch: 4 [300000/387970 (30%)]\tLoss: 0.000690\n",
      "====> Epoch: 4 Average loss: 0.0013\n",
      "Train Epoch: 5 [0/387970 (0%)]\tLoss: 0.003466\n",
      "Train Epoch: 5 [100000/387970 (10%)]\tLoss: 0.000810\n",
      "Train Epoch: 5 [200000/387970 (20%)]\tLoss: 0.000834\n",
      "Train Epoch: 5 [300000/387970 (30%)]\tLoss: 0.000679\n",
      "====> Epoch: 5 Average loss: 0.0012\n",
      "Train Epoch: 6 [0/387970 (0%)]\tLoss: 0.000682\n",
      "Train Epoch: 6 [100000/387970 (10%)]\tLoss: 0.000880\n",
      "Train Epoch: 6 [200000/387970 (20%)]\tLoss: 0.000776\n",
      "Train Epoch: 6 [300000/387970 (30%)]\tLoss: 0.000668\n",
      "====> Epoch: 6 Average loss: 0.0011\n",
      "Train Epoch: 7 [0/387970 (0%)]\tLoss: 0.000733\n",
      "Train Epoch: 7 [100000/387970 (10%)]\tLoss: 0.000758\n",
      "Train Epoch: 7 [200000/387970 (20%)]\tLoss: 0.000740\n",
      "Train Epoch: 7 [300000/387970 (30%)]\tLoss: 0.000790\n",
      "====> Epoch: 7 Average loss: 0.0011\n",
      "Train Epoch: 8 [0/387970 (0%)]\tLoss: 0.000734\n",
      "Train Epoch: 8 [100000/387970 (10%)]\tLoss: 0.000751\n",
      "Train Epoch: 8 [200000/387970 (20%)]\tLoss: 0.000638\n",
      "Train Epoch: 8 [300000/387970 (30%)]\tLoss: 0.000630\n",
      "====> Epoch: 8 Average loss: 0.0011\n",
      "Train Epoch: 9 [0/387970 (0%)]\tLoss: 0.000693\n",
      "Train Epoch: 9 [100000/387970 (10%)]\tLoss: 0.000951\n",
      "Train Epoch: 9 [200000/387970 (20%)]\tLoss: 0.000753\n",
      "Train Epoch: 9 [300000/387970 (30%)]\tLoss: 0.000683\n",
      "====> Epoch: 9 Average loss: 0.0010\n",
      "Train Epoch: 10 [0/387970 (0%)]\tLoss: 0.000683\n",
      "Train Epoch: 10 [100000/387970 (10%)]\tLoss: 0.003203\n",
      "Train Epoch: 10 [200000/387970 (20%)]\tLoss: 0.000786\n",
      "Train Epoch: 10 [300000/387970 (30%)]\tLoss: 0.000641\n",
      "====> Epoch: 10 Average loss: 0.0011\n",
      "Train Epoch: 11 [0/387970 (0%)]\tLoss: 0.000667\n",
      "Train Epoch: 11 [100000/387970 (10%)]\tLoss: 0.000893\n",
      "Train Epoch: 11 [200000/387970 (20%)]\tLoss: 0.001757\n",
      "Train Epoch: 11 [300000/387970 (30%)]\tLoss: 0.000624\n",
      "====> Epoch: 11 Average loss: 0.0010\n",
      "Train Epoch: 12 [0/387970 (0%)]\tLoss: 0.000922\n",
      "Train Epoch: 12 [100000/387970 (10%)]\tLoss: 0.000657\n",
      "Train Epoch: 12 [200000/387970 (20%)]\tLoss: 0.000675\n",
      "Train Epoch: 12 [300000/387970 (30%)]\tLoss: 0.000614\n",
      "====> Epoch: 12 Average loss: 0.0010\n",
      "Train Epoch: 13 [0/387970 (0%)]\tLoss: 0.000552\n",
      "Train Epoch: 13 [100000/387970 (10%)]\tLoss: 0.000932\n",
      "Train Epoch: 13 [200000/387970 (20%)]\tLoss: 0.000606\n",
      "Train Epoch: 13 [300000/387970 (30%)]\tLoss: 0.000630\n",
      "====> Epoch: 13 Average loss: 0.0011\n",
      "Train Epoch: 14 [0/387970 (0%)]\tLoss: 0.000611\n",
      "Train Epoch: 14 [100000/387970 (10%)]\tLoss: 0.000718\n",
      "Train Epoch: 14 [200000/387970 (20%)]\tLoss: 0.000932\n",
      "Train Epoch: 14 [300000/387970 (30%)]\tLoss: 0.000857\n",
      "====> Epoch: 14 Average loss: 0.0010\n",
      "CPU times: user 32min 3s, sys: 5min 8s, total: 37min 12s\n",
      "Wall time: 11min 17s\n"
     ]
    }
   ],
   "source": [
    "%%time\n",
    "\n",
    "#z=60\n",
    "for epoch in range(1, 15):\n",
    "    train(epoch)"
   ]
  },
  {
   "cell_type": "code",
   "execution_count": 265,
   "metadata": {},
   "outputs": [],
   "source": [
    "mu, log_var = vae.encoder(torch.tensor(x.astype(np.float32)))\n",
    "embed = vae.sampling(mu, log_var).detach().numpy()"
   ]
  },
  {
   "cell_type": "code",
   "execution_count": 266,
   "metadata": {},
   "outputs": [
    {
     "data": {
      "text/plain": [
       "(387970, 60)"
      ]
     },
     "execution_count": 266,
     "metadata": {},
     "output_type": "execute_result"
    }
   ],
   "source": [
    "embed.shape "
   ]
  },
  {
   "cell_type": "code",
   "execution_count": 268,
   "metadata": {},
   "outputs": [
    {
     "name": "stdout",
     "output_type": "stream",
     "text": [
      "CPU times: user 56min 39s, sys: 13.6 s, total: 56min 52s\n",
      "Wall time: 1h 45min 6s\n"
     ]
    }
   ],
   "source": [
    "%%time\n",
    "hdbScan2 = hdbscan.hdbscan_.HDBSCAN(min_cluster_size=2, min_samples=1, \n",
    "                                   allow_single_cluster=True, core_dist_n_jobs=20).fit(embed)"
   ]
  },
  {
   "cell_type": "code",
   "execution_count": 269,
   "metadata": {},
   "outputs": [
    {
     "data": {
      "text/plain": [
       "(0.0037974694833454218, 0.7381495891814817, 0.007556066181069479)"
      ]
     },
     "execution_count": 269,
     "metadata": {},
     "output_type": "execute_result"
    }
   ],
   "source": [
    "m2_2 = homogeneity_completeness_v_measure(Y,hdbScan2.labels_) \n",
    "m2_2"
   ]
  },
  {
   "cell_type": "code",
   "execution_count": 270,
   "metadata": {},
   "outputs": [
    {
     "data": {
      "text/plain": [
       "2"
      ]
     },
     "execution_count": 270,
     "metadata": {},
     "output_type": "execute_result"
    }
   ],
   "source": [
    "len(np.unique(hdbScan2.labels_))"
   ]
  },
  {
   "cell_type": "code",
   "execution_count": null,
   "metadata": {},
   "outputs": [],
   "source": []
  }
 ],
 "metadata": {
  "kernelspec": {
   "display_name": "Python 3",
   "language": "python",
   "name": "python3"
  },
  "language_info": {
   "codemirror_mode": {
    "name": "ipython",
    "version": 3
   },
   "file_extension": ".py",
   "mimetype": "text/x-python",
   "name": "python",
   "nbconvert_exporter": "python",
   "pygments_lexer": "ipython3",
   "version": "3.6.10"
  }
 },
 "nbformat": 4,
 "nbformat_minor": 4
}
